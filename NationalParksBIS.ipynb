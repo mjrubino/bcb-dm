{
 "cells": [
  {
   "cell_type": "markdown",
   "metadata": {
    "deletable": true,
    "editable": true
   },
   "source": [
    "# When working with data within BCB we will first document source information in ScienceBase to provide complete traceability of analyses to source data. This notebook demonstrates an example of how we can code the retrieval of source data and then document and upload the source file to the ScienceBase item.  The code then demonstrates how data from the ScienceBase item can be processed into a data management syste (i.e. GC2) where it can be queried for anaylzes and visualizations. "
   ]
  },
  {
   "cell_type": "markdown",
   "metadata": {
    "deletable": true,
    "editable": true
   },
   "source": [
    "# Initial code by Daniel Wieferich\n",
    "#Note 20170925 there is a lot of repetative code here (e.g. variables being named multiple times) that need to be cleaned up."
   ]
  },
  {
   "cell_type": "markdown",
   "metadata": {
    "deletable": true,
    "editable": true
   },
   "source": [
    "# Step 1:  Retrieval of source data, followed by documentation and upload of the source information into a new ScienceBase item.  In this step we do not change anything in the source data file."
   ]
  },
  {
   "cell_type": "code",
   "execution_count": 3,
   "metadata": {
    "collapsed": true,
    "deletable": true,
    "editable": true
   },
   "outputs": [],
   "source": [
    "#Import packages for getting source data into sciencebase\n",
    "import pysb   #allows for interaction with Sciencebase\n",
    "import getpass\n",
    "import time\n",
    "import urllib.request as ur\n",
    "import os"
   ]
  },
  {
   "cell_type": "code",
   "execution_count": 2,
   "metadata": {
    "collapsed": false,
    "deletable": true,
    "editable": true
   },
   "outputs": [
    {
     "data": {
      "text/plain": [
       "('nps_boundaries.zip', <http.client.HTTPMessage at 0x1db000809e8>)"
      ]
     },
     "execution_count": 2,
     "metadata": {},
     "output_type": "execute_result"
    }
   ],
   "source": [
    "#Retrieve source file(s)\n",
    "\n",
    "#Define File Url to download\n",
    "#Work with PAD-US team to ensure this is the correct file to be using here.\n",
    "dataUrl = 'http://gstore.unm.edu/apps/rgis/datasets/7bbe8af5-029b-4adf-b06c-134f0dd57226/nps_boundary.original.zip'\n",
    "\n",
    "#Define output file name\n",
    "fileName = 'nps_boundaries.zip'\n",
    "\n",
    "#Retrieve/Download File\n",
    "ur.urlretrieve(dataUrl, fileName)"
   ]
  },
  {
   "cell_type": "code",
   "execution_count": null,
   "metadata": {
    "collapsed": true,
    "deletable": true,
    "editable": true
   },
   "outputs": [],
   "source": [
    "#Log in to ScienceBase\n",
    "loginu=input(\"Username: \")  #asks user for username\n",
    "sb = pysb.SbSession()\n",
    "sb.loginc(str(loginu))\n",
    "time.sleep(2)\n",
    "\n",
    "#Create New SB Item, adding zipped shapefile of park boundaries\n",
    "newItem = sb.upload_files_and_create_item(sb.get_my_items_id(), [fileName])\n",
    "SbItem = newItem['id']"
   ]
  },
  {
   "cell_type": "code",
   "execution_count": null,
   "metadata": {
    "collapsed": true,
    "deletable": true,
    "editable": true
   },
   "outputs": [],
   "source": [
    "#Print Newly Created ScienceBase Item\n",
    "print(SbItem)"
   ]
  },
  {
   "cell_type": "code",
   "execution_count": 3,
   "metadata": {
    "collapsed": true,
    "deletable": true,
    "editable": true
   },
   "outputs": [],
   "source": [
    "#Variables to populate the metadata in the SB Item\n",
    "\n",
    "#Retrieve Acquisition Date\n",
    "import datetime\n",
    "dNow = datetime.datetime.now()\n",
    "AcqDate = dNow.strftime(\"%Y-%m-%d\")"
   ]
  },
  {
   "cell_type": "code",
   "execution_count": 5,
   "metadata": {
    "collapsed": false,
    "deletable": true,
    "editable": true
   },
   "outputs": [
    {
     "name": "stdout",
     "output_type": "stream",
     "text": [
      "Username: dwieferich@usgs.gov\n",
      "········\n"
     ]
    }
   ],
   "source": [
    "#JSON used to update SB Item\n",
    "#Note for this example SbItem = '59c284b7e4b091459a61d2d2'\n",
    "UpdateItem = {'id': SbItem,\n",
    "              'title': 'National Park Boundaries 20140625',\n",
    "              'body': 'National Park Boundaries, this is a test item that shows how we can use code to incorporate data into the BIS',\n",
    "              'purpose': 'This item is intended to preseve specific versions of files being used in the Biogeographic Information System.',\n",
    "              'dates': [{'type': 'Acquisition', 'dateString': AcqDate, 'label': 'Acquisition'}],\n",
    "              'webLinks': [{\"type\":\"sourceCode\",\"typeLabel\":\"Source Code\",\"uri\":\"https://github.com/usgs-bcb/bcb-dm/blob/master/NationalParksBIS.ipynb\",\"rel\":\"related\",\"title\":\"Python Code Used to Develop and Populate This SB Item\",\"hidden\":False},{\"type\":\"webLink\",\"typeLabel\":\"Web Link\",\"uri\":\"https://irma.nps.gov/DataStore/DownloadFile/580617\",\"rel\":\"related\",\"title\":\"National Park Boundaries Download URL\",\"hidden\":False}],\n",
    "              'contacts': [{\"name\":\"Daniel J Wieferich\",\"oldPartyId\":66431,\"type\":\"Contact\",\"contactType\":\"person\",\"email\":\"dwieferich@usgs.gov\",\"active\":True,\"jobTitle\":\"Physical Scientist\",\"firstName\":\"Daniel\",\"middleName\":\"J\",\"lastName\":\"Wieferich\",\"organization\":{\"displayText\":\"Biogeographic Characterization\"},\"primaryLocation\":{\"name\":\"CN=Daniel J Wieferich,OU=CSS,OU=Users,OU=OITS,OU=DI,DC=gs,DC=doi,DC=net - Primary Location\",\"building\":\"DFC Bldg 810\",\"buildingCode\":\"KBT\",\"officePhone\":\"3032024594\",\"faxPhone\":\"3032024710\",\"streetAddress\":{\"line1\":\"W 6th Ave Kipling St\",\"city\":\"Lakewood\",\"state\":\"CO\",\"zip\":\"80225\"},\"mailAddress\":{}},\"orcId\":\"0000-0003-1554-7992\"}],\n",
    "              \"tags\":[{\"type\":\"Theme\",\"scheme\":\"BIS\",\"name\":\"National Park Boundaries\"},{\"type\":\"Theme\",\"scheme\":\"BIS\",\"name\":\"PAD-US Source\"}]\n",
    "             }\n",
    "\n",
    "#Update SB Item, using above JSON\n",
    "updateItem = sb.updateSbItem(UpdateItem)"
   ]
  },
  {
   "cell_type": "code",
   "execution_count": 6,
   "metadata": {
    "collapsed": true,
    "deletable": true,
    "editable": true
   },
   "outputs": [],
   "source": [
    "#Remove local version of date\n",
    "os.remove(fileName)"
   ]
  },
  {
   "cell_type": "markdown",
   "metadata": {
    "collapsed": true,
    "deletable": true,
    "editable": true
   },
   "source": [
    "# Step 2:  Use information in the SB item to grab data for incorporation into GC2."
   ]
  },
  {
   "cell_type": "code",
   "execution_count": 4,
   "metadata": {
    "collapsed": true,
    "deletable": true,
    "editable": true
   },
   "outputs": [],
   "source": [
    "import geopandas as gpd\n",
    "import requests\n",
    "from bis2 import gc2  \n",
    "import json\n",
    "import numpy as np\n",
    "import gdal\n",
    "import fiona\n",
    "import uuid  \n",
    "import re\n",
    "import datetime\n",
    "\n",
    "zipFileName = 'nps_boundaries.zip'"
   ]
  },
  {
   "cell_type": "code",
   "execution_count": 9,
   "metadata": {
    "collapsed": true,
    "deletable": true,
    "editable": true
   },
   "outputs": [],
   "source": [
    "# Function that reads a zipped shapefile (using fiona) directly into a geodataframe (geopandas)\n",
    "# function from https://gist.github.com/linwoodc3/72b2f24b6d2ff6ffde1597f1ca2dea3f\n",
    "\n",
    "def shapefilereader(target):\n",
    "\n",
    "    \"\"\"Function to convert zipped shapefiles from the web or on disk into geopandas dataframes\n",
    "    \n",
    "    Parameters\n",
    "\n",
    "    ----------\n",
    "\n",
    "    target : str\n",
    "        string representing path to file on disk or url to download the zipped shapefile.\n",
    "\n",
    "    Returns\n",
    "\n",
    "    -------\n",
    "\n",
    "    Geopandas dataframe\n",
    "        Pandas dataframe with geospatial features and operations.\n",
    "\n",
    "    \"\"\"\n",
    "\n",
    "    \n",
    "    # Detect whether we are using a web-based shapefile or local disk\n",
    "\n",
    "    r = re.compile('^(http|https)://',re.I)\n",
    "\n",
    "    if r.search(target):\n",
    "\n",
    "        download = True\n",
    "\n",
    "        request = requests.get(target)\n",
    "\n",
    "        target = '/vsimem/{}.zip'.format(uuid.uuid4().hex) #gdal/ogr requires a .zip extension\n",
    "\n",
    "        gdal.FileFromMemBuffer(target,bytes(request.content))\n",
    "\n",
    "    else:\n",
    "\n",
    "        download = False\n",
    "\n",
    "    \n",
    "    with fiona.Collection(target,vsi='zip') as f:\n",
    "\n",
    "        return gpd.GeoDataFrame.from_features(f,crs=f.crs)"
   ]
  },
  {
   "cell_type": "code",
   "execution_count": 17,
   "metadata": {
    "collapsed": true,
    "deletable": true,
    "editable": true
   },
   "outputs": [],
   "source": [
    "#Need to write in a check here to make sure the right number of files are returned (21)\n",
    "q='''https://www.sciencebase.gov/catalog/item/59c284b7e4b091459a61d2d2?format=json'''\n",
    "#Returns \n",
    "nps_sb = requests.get(q).json()"
   ]
  },
  {
   "cell_type": "code",
   "execution_count": 53,
   "metadata": {
    "collapsed": false,
    "deletable": true,
    "editable": true
   },
   "outputs": [
    {
     "name": "stdout",
     "output_type": "stream",
     "text": [
      "{'link': {'rel': 'self', 'url': 'https://www.sciencebase.gov/catalog/item/59c284b7e4b091459a61d2d2'}, 'relatedItems': {'link': {'url': 'https://www.sciencebase.gov/catalog/itemLinks?itemId=59c284b7e4b091459a61d2d2', 'rel': 'related'}}, 'id': '59c284b7e4b091459a61d2d2', 'title': 'National Park Boundaries 20140625', 'summary': 'National Park Boundaries, this is a test item that shows how we can use code to incorporate data into the BIS', 'body': 'National Park Boundaries, this is a test item that shows how we can use code to incorporate data into the BIS', 'purpose': 'This item is intended to preseve specific versions of files being used in the Biogeographic Information System.', 'provenance': {'dateCreated': '2017-09-20T15:09:43Z', 'lastUpdated': '2017-09-25T17:21:32Z'}, 'hasChildren': False, 'parentId': '53ece718e4b02bf5a7681838', 'contacts': [{'name': 'Daniel J Wieferich', 'oldPartyId': 66431, 'type': 'Contact', 'contactType': 'person', 'email': 'dwieferich@usgs.gov', 'active': True, 'jobTitle': 'Physical Scientist', 'firstName': 'Daniel', 'middleName': 'J', 'lastName': 'Wieferich', 'organization': {'displayText': 'Biogeographic Characterization'}, 'primaryLocation': {'name': 'CN=Daniel J Wieferich,OU=CSS,OU=Users,OU=OITS,OU=DI,DC=gs,DC=doi,DC=net - Primary Location', 'building': 'DFC Bldg 810', 'buildingCode': 'KBT', 'officePhone': '3032024594', 'faxPhone': '3032024710', 'streetAddress': {'line1': 'W 6th Ave Kipling St', 'city': 'Lakewood', 'state': 'CO', 'zip': '80225'}, 'mailAddress': {}}, 'orcId': '0000-0003-1554-7992'}], 'webLinks': [{'type': 'sourceCode', 'typeLabel': 'Source Code', 'uri': 'https://github.com/usgs-bcb/bcb-dm/blob/master/NationalParksBIS.ipynb', 'rel': 'related', 'title': 'Python Code Used to Develop and Populate This SB Item', 'hidden': False}, {'type': 'webLink', 'typeLabel': 'Web Link', 'uri': 'https://irma.nps.gov/DataStore/DownloadFile/580617', 'rel': 'related', 'title': 'National Park Boundaries Download URL', 'hidden': False}], 'tags': [{'type': 'Theme', 'scheme': 'BIS', 'name': 'National Park Boundaries'}, {'type': 'Theme', 'scheme': 'BIS', 'name': 'PAD-US Source'}], 'dates': [{'type': 'Acquisition', 'dateString': '2017-09-25', 'label': 'Acquisition'}], 'files': [{'name': 'nps_boundaries.zip', 'title': None, 'contentType': 'application/zip', 'contentEncoding': None, 'pathOnDisk': '__disk__64/7c/d4/647cd4791b3a90ebbdfd0813ad2f705200a4f335', 'processed': None, 'processToken': None, 'imageWidth': None, 'imageHeight': None, 'size': 15474815, 'dateUploaded': '2017-09-20T15:09:43Z', 'originalMetadata': None, 'useForPreview': None, 's3Object': None, 'checksum': None, 'url': 'https://www.sciencebase.gov/catalog/file/get/59c284b7e4b091459a61d2d2?f=__disk__64%2F7c%2Fd4%2F647cd4791b3a90ebbdfd0813ad2f705200a4f335'}], 'distributionLinks': [{'uri': 'https://www.sciencebase.gov/catalog/file/get/59c284b7e4b091459a61d2d2', 'title': 'Download Attached Files', 'type': 'downloadLink', 'typeLabel': 'Download Link', 'rel': 'alternate', 'name': 'NationalParkBou.zip', 'files': [{'name': 'nps_boundaries.zip', 'title': None, 'contentType': 'application/zip'}]}]}\n"
     ]
    }
   ],
   "source": [
    "print (nps_sb)"
   ]
  },
  {
   "cell_type": "code",
   "execution_count": 58,
   "metadata": {
    "collapsed": false,
    "deletable": true,
    "editable": true
   },
   "outputs": [
    {
     "name": "stdout",
     "output_type": "stream",
     "text": [
      "https://irma.nps.gov/DataStore/DownloadFile/580617\n"
     ]
    }
   ],
   "source": [
    "for link in nps_sb['webLinks']:\n",
    "    titleLink = 'National Park Boundaries Download URL'\n",
    "    if titleLink == link['title']:\n",
    "        downloadLink = link['uri']\n",
    "        print(downloadLink)\n",
    "\n",
    "\n",
    "#ISSUE:  Using the shapefilereader on a download link from SB fails.\n",
    "#For an IRMA dataset which we may be able to trust, this isn't a big deal but for\n",
    "#other datasets where SB is the authoritative copy we want to use we will have\n",
    "#to resolve this issue.\n",
    "\n",
    "#for file in nps_sb['files']:\n",
    "#    if zipFileName == file['name']:\n",
    "#        downloadItem = file['url']"
   ]
  },
  {
   "cell_type": "code",
   "execution_count": 59,
   "metadata": {
    "collapsed": true,
    "deletable": true,
    "editable": true
   },
   "outputs": [],
   "source": [
    "#Use shapefilereader function (above) to make a geodataframe out of shapefile\n",
    "nps = shapefilereader(downloadLink)"
   ]
  },
  {
   "cell_type": "code",
   "execution_count": 61,
   "metadata": {
    "collapsed": false,
    "deletable": true,
    "editable": true
   },
   "outputs": [
    {
     "data": {
      "text/html": [
       "<div>\n",
       "<style>\n",
       "    .dataframe thead tr:only-child th {\n",
       "        text-align: right;\n",
       "    }\n",
       "\n",
       "    .dataframe thead th {\n",
       "        text-align: left;\n",
       "    }\n",
       "\n",
       "    .dataframe tbody tr th {\n",
       "        vertical-align: top;\n",
       "    }\n",
       "</style>\n",
       "<table border=\"1\" class=\"dataframe\">\n",
       "  <thead>\n",
       "    <tr style=\"text-align: right;\">\n",
       "      <th></th>\n",
       "      <th>CREATED_BY</th>\n",
       "      <th>DATE_EDIT</th>\n",
       "      <th>GIS_Notes</th>\n",
       "      <th>GNIS_ID</th>\n",
       "      <th>METADATA</th>\n",
       "      <th>PARKNAME</th>\n",
       "      <th>REGION</th>\n",
       "      <th>STATE</th>\n",
       "      <th>UNIT_CODE</th>\n",
       "      <th>UNIT_NAME</th>\n",
       "      <th>UNIT_TYPE</th>\n",
       "      <th>geometry</th>\n",
       "    </tr>\n",
       "  </thead>\n",
       "  <tbody>\n",
       "    <tr>\n",
       "      <th>0</th>\n",
       "      <td>Legacy</td>\n",
       "      <td>2015-04-22</td>\n",
       "      <td>LEGACY: contact allen_mccoy@nps.gov for additi...</td>\n",
       "      <td>1879026</td>\n",
       "      <td></td>\n",
       "      <td>American Memorial Park</td>\n",
       "      <td>PW</td>\n",
       "      <td>MP</td>\n",
       "      <td>AMME</td>\n",
       "      <td>American Memorial Park</td>\n",
       "      <td>Park</td>\n",
       "      <td>POLYGON ((145.723496788 15.22246183000004, 145...</td>\n",
       "    </tr>\n",
       "    <tr>\n",
       "      <th>1</th>\n",
       "      <td>Legacy</td>\n",
       "      <td>2015-04-22</td>\n",
       "      <td>LEGACY: contact allen_mccoy@nps.gov for additi...</td>\n",
       "      <td>1888910</td>\n",
       "      <td></td>\n",
       "      <td>Ebey's Landing</td>\n",
       "      <td>PW</td>\n",
       "      <td>WA</td>\n",
       "      <td>EBLA</td>\n",
       "      <td>Ebey's Landing National Historical Reserve</td>\n",
       "      <td>National Historical Reserve</td>\n",
       "      <td>POLYGON ((-122.6528982094848 48.25378514027204...</td>\n",
       "    </tr>\n",
       "    <tr>\n",
       "      <th>2</th>\n",
       "      <td>Legacy</td>\n",
       "      <td>2015-04-22</td>\n",
       "      <td>LEGACY: contact allen_mccoy@nps.gov for additi...</td>\n",
       "      <td>1531834</td>\n",
       "      <td></td>\n",
       "      <td>Lake Roosevelt</td>\n",
       "      <td>PW</td>\n",
       "      <td>WA</td>\n",
       "      <td>LARO</td>\n",
       "      <td>Lake Roosevelt National Recreation Area</td>\n",
       "      <td>National Recreation Area</td>\n",
       "      <td>(POLYGON ((-118.4520020926864 47.8421348958409...</td>\n",
       "    </tr>\n",
       "    <tr>\n",
       "      <th>3</th>\n",
       "      <td>Legacy</td>\n",
       "      <td>2015-04-22</td>\n",
       "      <td>LEGACY: contact allen_mccoy@nps.gov for additi...</td>\n",
       "      <td>2055170</td>\n",
       "      <td></td>\n",
       "      <td>Lewis and Clark</td>\n",
       "      <td>PW</td>\n",
       "      <td>WA</td>\n",
       "      <td>LEWI</td>\n",
       "      <td>Lewis and Clark National Historical Park</td>\n",
       "      <td>National Historical Park</td>\n",
       "      <td>(POLYGON ((-124.0749506444566 46.3022812330924...</td>\n",
       "    </tr>\n",
       "    <tr>\n",
       "      <th>4</th>\n",
       "      <td>Legacy</td>\n",
       "      <td>2015-04-22</td>\n",
       "      <td>LEGACY: contact allen_mccoy@nps.gov for additi...</td>\n",
       "      <td>1530459</td>\n",
       "      <td></td>\n",
       "      <td>Olympic</td>\n",
       "      <td>PW</td>\n",
       "      <td>WA</td>\n",
       "      <td>OLYM</td>\n",
       "      <td>Olympic National Park</td>\n",
       "      <td>National Park</td>\n",
       "      <td>(POLYGON ((-124.3806127629999 47.6020991240000...</td>\n",
       "    </tr>\n",
       "    <tr>\n",
       "      <th>5</th>\n",
       "      <td>Legacy</td>\n",
       "      <td>2015-04-22</td>\n",
       "      <td>LEGACY: contact denise_kamradt@nps.gov for add...</td>\n",
       "      <td>277263</td>\n",
       "      <td></td>\n",
       "      <td>Santa Monica Mountains</td>\n",
       "      <td>PW</td>\n",
       "      <td>CA</td>\n",
       "      <td>SAMO</td>\n",
       "      <td>Santa Monica Mountains National Recreation Area</td>\n",
       "      <td>National Recreation Area</td>\n",
       "      <td>POLYGON ((-118.7167121438143 34.2240933890812,...</td>\n",
       "    </tr>\n",
       "    <tr>\n",
       "      <th>6</th>\n",
       "      <td>Legacy</td>\n",
       "      <td>2015-04-22</td>\n",
       "      <td>LEGACY: contact allen_mccoy@nps.gov for additi...</td>\n",
       "      <td>2767392</td>\n",
       "      <td></td>\n",
       "      <td>Tule Springs Fossil Beds</td>\n",
       "      <td>PW</td>\n",
       "      <td>NV</td>\n",
       "      <td>TUSK</td>\n",
       "      <td>Tule Springs Fossil Beds National Monument</td>\n",
       "      <td>National Monument</td>\n",
       "      <td>(POLYGON ((-115.161856294932 36.33393126831345...</td>\n",
       "    </tr>\n",
       "    <tr>\n",
       "      <th>7</th>\n",
       "      <td>Legacy</td>\n",
       "      <td>2013-12-18</td>\n",
       "      <td>LEGACY: NPS Inventory and Monitoring Program D...</td>\n",
       "      <td>578853</td>\n",
       "      <td></td>\n",
       "      <td></td>\n",
       "      <td>NE</td>\n",
       "      <td>ME</td>\n",
       "      <td>ACAD</td>\n",
       "      <td>Acadia National Park</td>\n",
       "      <td>National Park</td>\n",
       "      <td>(POLYGON ((-68.22594734499995 44.3958418610000...</td>\n",
       "    </tr>\n",
       "  </tbody>\n",
       "</table>\n",
       "</div>"
      ],
      "text/plain": [
       "  CREATED_BY   DATE_EDIT                                          GIS_Notes  \\\n",
       "0     Legacy  2015-04-22  LEGACY: contact allen_mccoy@nps.gov for additi...   \n",
       "1     Legacy  2015-04-22  LEGACY: contact allen_mccoy@nps.gov for additi...   \n",
       "2     Legacy  2015-04-22  LEGACY: contact allen_mccoy@nps.gov for additi...   \n",
       "3     Legacy  2015-04-22  LEGACY: contact allen_mccoy@nps.gov for additi...   \n",
       "4     Legacy  2015-04-22  LEGACY: contact allen_mccoy@nps.gov for additi...   \n",
       "5     Legacy  2015-04-22  LEGACY: contact denise_kamradt@nps.gov for add...   \n",
       "6     Legacy  2015-04-22  LEGACY: contact allen_mccoy@nps.gov for additi...   \n",
       "7     Legacy  2013-12-18  LEGACY: NPS Inventory and Monitoring Program D...   \n",
       "\n",
       "   GNIS_ID METADATA                  PARKNAME REGION STATE UNIT_CODE  \\\n",
       "0  1879026             American Memorial Park     PW    MP      AMME   \n",
       "1  1888910                     Ebey's Landing     PW    WA      EBLA   \n",
       "2  1531834                     Lake Roosevelt     PW    WA      LARO   \n",
       "3  2055170                    Lewis and Clark     PW    WA      LEWI   \n",
       "4  1530459                            Olympic     PW    WA      OLYM   \n",
       "5   277263             Santa Monica Mountains     PW    CA      SAMO   \n",
       "6  2767392           Tule Springs Fossil Beds     PW    NV      TUSK   \n",
       "7   578853                                        NE    ME      ACAD   \n",
       "\n",
       "                                         UNIT_NAME  \\\n",
       "0                           American Memorial Park   \n",
       "1       Ebey's Landing National Historical Reserve   \n",
       "2          Lake Roosevelt National Recreation Area   \n",
       "3         Lewis and Clark National Historical Park   \n",
       "4                            Olympic National Park   \n",
       "5  Santa Monica Mountains National Recreation Area   \n",
       "6       Tule Springs Fossil Beds National Monument   \n",
       "7                             Acadia National Park   \n",
       "\n",
       "                     UNIT_TYPE  \\\n",
       "0                         Park   \n",
       "1  National Historical Reserve   \n",
       "2     National Recreation Area   \n",
       "3     National Historical Park   \n",
       "4                National Park   \n",
       "5     National Recreation Area   \n",
       "6            National Monument   \n",
       "7                National Park   \n",
       "\n",
       "                                            geometry  \n",
       "0  POLYGON ((145.723496788 15.22246183000004, 145...  \n",
       "1  POLYGON ((-122.6528982094848 48.25378514027204...  \n",
       "2  (POLYGON ((-118.4520020926864 47.8421348958409...  \n",
       "3  (POLYGON ((-124.0749506444566 46.3022812330924...  \n",
       "4  (POLYGON ((-124.3806127629999 47.6020991240000...  \n",
       "5  POLYGON ((-118.7167121438143 34.2240933890812,...  \n",
       "6  (POLYGON ((-115.161856294932 36.33393126831345...  \n",
       "7  (POLYGON ((-68.22594734499995 44.3958418610000...  "
      ]
     },
     "execution_count": 61,
     "metadata": {},
     "output_type": "execute_result"
    }
   ],
   "source": [
    "nps.head(8)"
   ]
  },
  {
   "cell_type": "code",
   "execution_count": 62,
   "metadata": {
    "collapsed": false,
    "deletable": true,
    "editable": true
   },
   "outputs": [
    {
     "data": {
      "text/plain": [
       "{'init': 'epsg:4269'}"
      ]
     },
     "execution_count": 62,
     "metadata": {},
     "output_type": "execute_result"
    }
   ],
   "source": [
    "nps.crs"
   ]
  },
  {
   "cell_type": "code",
   "execution_count": 63,
   "metadata": {
    "collapsed": false,
    "deletable": true,
    "editable": true
   },
   "outputs": [
    {
     "data": {
      "text/plain": [
       "{'init': 'epsg:3857'}"
      ]
     },
     "execution_count": 63,
     "metadata": {},
     "output_type": "execute_result"
    }
   ],
   "source": [
    "#Transform coordinate system to web mercator\n",
    "nps = nps.to_crs({'init': 'epsg:3857'}) \n",
    "#Print new coordinate system to make sure transformation worked\n",
    "nps.crs"
   ]
  },
  {
   "cell_type": "code",
   "execution_count": 5,
   "metadata": {
    "collapsed": true,
    "deletable": true,
    "editable": true
   },
   "outputs": [],
   "source": [
    "# Set up the actions/targets for this particular instance\n",
    "thisRun = {}\n",
    "thisRun[\"instance\"] = \"DataDistillery\"\n",
    "thisRun[\"db\"] = \"BCB\"\n",
    "thisRun[\"baseURL\"] = gc2.sqlAPI(thisRun[\"instance\"],thisRun[\"db\"])\n",
    "thisRun[\"schema\"] = \"sfr\"\n",
    "thisRun[\"commitToDB\"] = False\n",
    "\n",
    "gc2Key = gc2.gc2Keys[\"datadistillery_bcb\"]"
   ]
  },
  {
   "cell_type": "code",
   "execution_count": 24,
   "metadata": {
    "collapsed": false,
    "deletable": true,
    "editable": true
   },
   "outputs": [
    {
     "name": "stdout",
     "output_type": "stream",
     "text": [
      "1879026 failed with code: 400\n",
      "1888910 failed with code: 400\n",
      "277263 failed with code: 400\n",
      "2035608 failed with code: 400\n",
      "2766084 failed with code: 500\n",
      "589056 failed with code: 400\n",
      "302659 failed with code: 400\n",
      "1309762\n",
      "1009494\n",
      "1877617 failed with code: 400\n",
      "982628\n",
      "1000889 failed with code: 400\n",
      "1688073 failed with code: 400\n",
      "330990\n",
      "583731\n",
      "325829\n",
      "293666 failed with code: 400\n",
      "970121\n",
      "985324 failed with code: 400\n",
      "1479187 failed with code: 400\n",
      "1741168 failed with code: 400\n",
      "1018241\n",
      "2733408 failed with code: 400\n",
      "1177725\n",
      "1616980 failed with code: 400\n",
      "1384770 failed with code: 400\n",
      "1888940\n",
      "1888944 failed with code: 400\n",
      "394735\n",
      "1877618 failed with code: 400\n",
      "1309684 failed with code: 400\n",
      "1888953\n",
      "1828937 failed with code: 400\n",
      "277109 failed with code: 400\n",
      "2766087 failed with code: 400\n",
      "530563\n",
      "1879024\n",
      "530771 failed with code: 400\n",
      "1488805\n",
      "1270094\n",
      "638101\n",
      "1877509 failed with code: 400\n",
      "1888964\n",
      "2733416\n",
      "679217\n",
      "1985663 failed with code: 400\n",
      "806297\n",
      "936867 failed with code: 400\n",
      "1888916 failed with code: 400\n",
      "928945\n",
      "1470042\n",
      "35519\n",
      "35601 failed with code: 400\n",
      "202628 failed with code: 400\n",
      "1888974\n",
      "588388\n",
      "589057\n",
      "307911 failed with code: 400\n",
      "1446610 failed with code: 400\n",
      "2733420 failed with code: 400\n",
      "530776 failed with code: 400\n",
      "1888900\n",
      "490476 failed with code: 400\n",
      "38197 failed with code: 400\n",
      "597496\n",
      "1888969 failed with code: 400\n",
      "667556 failed with code: 400\n",
      "234493\n",
      "1222505\n",
      "191398 failed with code: 400\n",
      "35382 failed with code: 400\n",
      "1888929\n",
      "1227788 failed with code: 400\n",
      "1252725 failed with code: 400\n",
      "1613756 failed with code: 400\n",
      "2085144 failed with code: 400\n",
      "1439558 failed with code: 400\n",
      "1383785 failed with code: 400\n",
      "1455716 failed with code: 400\n",
      "606990\n",
      "34968 failed with code: 400\n",
      "2733422 failed with code: 400\n",
      "530748 failed with code: 400\n",
      "2510335\n",
      "9526 failed with code: 400\n",
      "906062 failed with code: 400\n",
      "1101907 failed with code: 400\n",
      "1304837\n",
      "1888959 failed with code: 400\n",
      "945983 failed with code: 400\n",
      "1605065 failed with code: 400\n",
      "456249\n",
      "2733461 failed with code: 400\n",
      "202599\n",
      "889156\n",
      "496556\n",
      "307632\n",
      "314290\n",
      "1676813\n",
      "1804731 failed with code: 400\n",
      "1450197 failed with code: 400\n",
      "1604577 failed with code: 400\n",
      "718402 failed with code: 400\n",
      "874901\n",
      "1609331 failed with code: 400\n",
      "6092 failed with code: 400\n",
      "1888906 failed with code: 400\n",
      "365210 failed with code: 400\n",
      "1377214 failed with code: 400\n",
      "1877550 failed with code: 400\n",
      "2733425 failed with code: 400\n",
      "307730\n",
      "2060434 failed with code: 400\n",
      "255957 failed with code: 400\n",
      "1211947 failed with code: 400\n",
      "584569\n",
      "2733426 failed with code: 400\n",
      "597426 failed with code: 400\n",
      "266000 failed with code: 400\n",
      "365030 failed with code: 400\n",
      "2492338 failed with code: 400\n",
      "1993989 failed with code: 400\n",
      "1888946\n",
      "1888911 failed with code: 400\n",
      "1888904\n",
      "507318 failed with code: 400\n",
      "1597571 failed with code: 400\n",
      "1888915 failed with code: 400\n",
      "1888899\n",
      "8538\n",
      "1888967 failed with code: 400\n",
      "2733428\n",
      "179042 failed with code: 400\n",
      "862430 failed with code: 400\n",
      "644333\n",
      "277264 failed with code: 400\n",
      "1655639 failed with code: 400\n",
      "1888961\n",
      "531850 failed with code: 400\n",
      "530557 failed with code: 400\n",
      "1025558 failed with code: 400\n",
      "149966 failed with code: 400\n",
      "307963\n",
      "1662323\n",
      "1448008\n",
      "2091841\n",
      "2733430 failed with code: 400\n",
      "1477005\n",
      "560393\n",
      "1261888 failed with code: 400\n",
      "475845\n",
      "1879023\n",
      "2026588\n",
      "1888919 failed with code: 400\n",
      "1888966 failed with code: 400\n",
      "1888973 failed with code: 400\n",
      "480986 failed with code: 400\n",
      "1082175 failed with code: 400\n",
      "1888932 failed with code: 400\n",
      "583623\n",
      "23944 failed with code: 400\n",
      "1454484 failed with code: 400\n",
      "2559483 failed with code: 400\n",
      "25440 failed with code: 400\n",
      "689020\n",
      "35848 failed with code: 400\n",
      "1462531\n",
      "649530 failed with code: 400\n",
      "2733431\n",
      "294450 failed with code: 400\n",
      "600051\n",
      "2733432\n",
      "1262098 failed with code: 400\n",
      "1377201 failed with code: 400\n",
      "401309 failed with code: 400\n",
      "395749\n",
      "226274\n",
      "1498529\n",
      "2733433\n",
      "1504974\n",
      "1888960\n",
      "607138 failed with code: 400\n",
      "765817\n",
      "314296\n",
      "1888914 failed with code: 400\n",
      "1888922 failed with code: 400\n",
      "2083047 failed with code: 400\n",
      "40512 failed with code: 400\n",
      "1027483\n",
      "2733435 failed with code: 400\n",
      "1888937\n",
      "1223739 failed with code: 400\n",
      "1428242 failed with code: 400\n",
      "2733436 failed with code: 400\n",
      "970557\n",
      "262358\n",
      "1888975 failed with code: 400\n",
      "447197 failed with code: 400\n",
      "2733437 failed with code: 400\n",
      "1193717 failed with code: 400\n",
      "1877541 failed with code: 400\n",
      "31964\n",
      "255948\n",
      "1888963 failed with code: 400\n",
      "1531185 failed with code: 400\n",
      "1989142 failed with code: 400\n",
      "531832 failed with code: 400\n",
      "1985525 failed with code: 400\n",
      "530610 failed with code: 400\n",
      "2002666 failed with code: 400\n",
      "531835 failed with code: 400\n",
      "2733438 failed with code: 400\n",
      "126026\n",
      "1780716\n",
      "1357585 failed with code: 400\n",
      "767934\n",
      "358732\n",
      "2733440\n",
      "229295\n",
      "2463113\n",
      "2127375 failed with code: 400\n",
      "1888938 failed with code: 400\n",
      "878495\n",
      "457629 failed with code: 400\n",
      "1888943\n",
      "2092022\n",
      "833315 failed with code: 400\n",
      "1200751\n",
      "1946144 failed with code: 400\n",
      "826917 failed with code: 400\n",
      "2733441 failed with code: 400\n",
      "1434866 failed with code: 400\n",
      "1986830 failed with code: 400\n",
      "266641 failed with code: 400\n",
      "1877542 failed with code: 400\n",
      "1888952\n",
      "277261\n",
      "2733450\n",
      "1888942\n",
      "1888939 failed with code: 400\n",
      "2736075 failed with code: 400\n",
      "1083940\n",
      "1888912 failed with code: 400\n",
      "2035610\n",
      "920404\n",
      "2754548 failed with code: 400\n",
      "1193713\n",
      "2733442\n",
      "936877\n",
      "247533\n",
      "1614406 failed with code: 400\n",
      "204948\n",
      "857501\n",
      "595218 failed with code: 400\n",
      "1888949 failed with code: 400\n",
      "23866 failed with code: 500\n",
      "858265 failed with code: 500\n",
      "600017\n",
      "1904107 failed with code: 400\n",
      "44811 failed with code: 400\n",
      "310345\n",
      "1993781\n",
      "1214216\n",
      "294586 failed with code: 400\n",
      "310534\n",
      "1888951\n",
      "1247412 failed with code: 400\n",
      "2877 failed with code: 400\n",
      "1704967 failed with code: 400\n",
      "1175577\n",
      "1828962\n",
      "2733421 failed with code: 400\n",
      "600140\n",
      "1147260\n",
      "2733424 failed with code: 400\n",
      "2733434 failed with code: 400\n",
      "255952\n",
      "1967105 failed with code: 400\n",
      "2738287\n",
      "1133439\n",
      "2756166\n",
      "986193\n",
      "2053533\n",
      "1581059\n",
      "53246\n",
      "1888972\n",
      "2035603 failed with code: 400\n",
      "262325\n",
      "1265096\n",
      "2767391 failed with code: 400\n",
      "1284664\n",
      "968452\n",
      "1888934\n",
      "1534055\n",
      "882894\n",
      "1888970 failed with code: 400\n",
      "771520\n",
      "2766708\n",
      "779820 failed with code: 400\n",
      "44981 failed with code: 400\n",
      "606900 failed with code: 400\n",
      "964487\n",
      "2775864\n",
      "1528416\n",
      "446882 failed with code: 400\n",
      "1971618 failed with code: 400\n",
      "2775863\n",
      "1467038 failed with code: 400\n",
      "2083660\n",
      "584846\n",
      "2775865 failed with code: 400\n",
      "23865\n",
      "255923 failed with code: 400\n",
      "1888965 failed with code: 400\n",
      "158362\n",
      "282677\n",
      "581971 failed with code: 400\n",
      "1597073 failed with code: 400\n",
      "2738286\n",
      "1472799 failed with code: 400\n",
      "880864\n",
      "928874\n",
      "2035517 failed with code: 400\n",
      "1263056\n",
      "123648\n",
      "202252 failed with code: 400\n",
      "1488838 failed with code: 400\n",
      "1478412\n",
      "2733449\n",
      "1416034 failed with code: 400\n",
      "1416034 failed with code: 400\n",
      "1416037\n",
      "1416038\n",
      "2760439 failed with code: 400\n",
      "2760439\n",
      "1416040\n",
      "1416040\n",
      "1416041 failed with code: 400\n",
      "1416041\n",
      "1416045\n",
      "1416045 failed with code: 400\n",
      "1419645\n",
      "1423115\n",
      "1416046 failed with code: 400\n",
      "1416049\n",
      "1416049 failed with code: 400\n",
      "1413640\n",
      "1417085\n",
      "1416055\n",
      "1416055\n",
      "1416058 failed with code: 400\n",
      "1473199\n",
      "2766905 failed with code: 400\n",
      "2733439\n",
      "need ID failed with code: 400\n",
      "need ID failed with code: 400\n",
      "1528421\n",
      "1528419 failed with code: 400\n",
      "need ID failed with code: 400\n",
      "2707739\t\n",
      "1966567\n",
      "1803454\n",
      "660491\n",
      "1556735\n",
      "74272 failed with code: 400\n",
      "735922 failed with code: 400\n",
      "2035095 failed with code: 400\n",
      "830099 failed with code: 400\n",
      "2057537 failed with code: 400\n",
      "56796\n",
      "2733423\n",
      "56686\n",
      "1888931\n",
      "751466\n",
      "358382\n",
      "1888945\n",
      "1888913\n",
      "1377082 failed with code: 400\n",
      "2733427 failed with code: 400\n",
      "1528425 failed with code: 400\n",
      "1193711\n",
      "446903\n",
      "1006677 failed with code: 400\n",
      "634820\n",
      "needed failed with code: 400\n",
      "1888958 failed with code: 400\n",
      "1888941\n",
      "904780\n",
      "936878\n",
      "885961 failed with code: 400\n",
      "1455157 failed with code: 400\n",
      "2733443 failed with code: 400\n",
      "2733443 failed with code: 400\n",
      "1821086 failed with code: 400\n",
      "1377039\n",
      "806847 failed with code: 400\n",
      "needed\n",
      "1986829 failed with code: 400\n",
      "1986829 failed with code: 400\n",
      "914261\n",
      "937161\n",
      "15492 failed with code: 400\n",
      "196412\n",
      "203271\n",
      "2733411\n",
      "23864 failed with code: 400\n",
      "1888902\n",
      "1033824\n",
      "1066328\n",
      "10683\n",
      "169567 failed with code: 400\n",
      "1163670\n"
     ]
    }
   ],
   "source": [
    "#This step helps troubleshoot the upload of many large complex features, which can not be uploaded in one run due to timing out of server\n",
    "#Return NPS records already in SFR into a list called lookup.  Lookup will be used to ensure we don't duplicate records\n",
    "\n",
    "q_recordToSearch = \"SELECT registration->'sourceLookup' as lookup FROM sfr.sfr_poly where ftype= 'National Park Boundaries' \" \n",
    "recordToSearch = requests.get(thisRun[\"baseURL\"]+\"&q=\"+q_recordToSearch).json()\n",
    "p = recordToSearch['features']\n",
    "lookup = []\n",
    "for f in p:\n",
    "    string = f['properties']['lookup']\n",
    "    if string.startswith('\"') and string.endswith('\"'):\n",
    "        string = string[1:-1]  #For some reason these values are coming back with double quotes, this removes outer quote\n",
    "        lookup.append(string)\n",
    "lenList = len(lookup)\n",
    "cntExisting = 0 \n",
    "existingList = []\n",
    "    \n",
    "\n",
    "#Loop through rows in the geodataframe, trying to insert each into GC2    \n",
    "for row in nps.itertuples():\n",
    "    #This if statement checks to see if the park boundary was already processed, if it was we just record that and move on. \n",
    "    if row.GNIS_ID in lookup:\n",
    "        cntExisting += 1\n",
    "        existingList.append({'existing': row.GNIS_ID})\n",
    "    else:\n",
    "        #Register a spatial feature\n",
    "        #Uses the ScienceBase item and data brought into a geodataframe with crs 3857 to register an item\n",
    "        poly = str(row.geometry)\n",
    "        title = (row.GNIS_ID + ' : ' + row.PARKNAME)\n",
    "        spat_cert = 'https://www.sciencebase.gov/vocab/term/5822257ee4b0b3d9add24304'\n",
    "        ftype = 'National Park Boundaries'\n",
    "        npsDownload = 'https://irma.nps.gov/DataStore/DownloadFile/580617'\n",
    "        sbUrl = 'https://www.sciencebase.gov/catalog/item/59c284b7e4b091459a61d2d2'\n",
    "              \n",
    "        #Build JSON for Registration Information field in SFR \n",
    "        #We should bring in information from the SB item to help build this out, example is dataDevelopmentDate, \n",
    "        thisRegistration = {}\n",
    "        thisRegistration[\"sourceName\"] = \"NPS\"  #In Future Pull this from SB\n",
    "        thisRegistration[\"sourceInfoUrl\"] = SbUrl # In Future Pull this from SB\n",
    "        thisRegistration[\"sourceFileUrl\"] = npsDownload # In Future Pull this from SB\n",
    "        thisRegistration[\"registrationDate\"] = datetime.datetime.utcnow().isoformat() \n",
    "        thisRegistration[\"sourceLookup\"] = row.GNIS_ID\n",
    "        jd = json.dumps(thisRegistration)\n",
    "        \n",
    "        q = \"insert into sfr.sfr_poly(registration, spat_cert, title, ftype, the_geom) VALUES ('\" + jd + \"' ,'\"  + spat_cert + \"' ,'\" \\\n",
    "+ title + \"' ,'\" + ftype + \"', ST_GeomFromText('\" + poly + \"', 3857))\"\n",
    "        payload = \"q=%s&key=%s\"%(q,gc2Key)\n",
    "        url= gc2.baseURLs[\"sqlapi_datadistillery_bcb\"]\n",
    "        \n",
    "        try:\n",
    "            d=[]\n",
    "            r = requests.post(url,data=payload)\n",
    "            status = str(r.status_code)\n",
    "            if r.status_code == 200:\n",
    "                d.append({'status': status, 'id': str(row.GNIS_ID)})\n",
    "                print (str(row.GNIS_ID))\n",
    "            else:\n",
    "                d.append({'status': status, 'id': str(row.GNIS_ID)})\n",
    "                print (str(row.GNIS_ID) + ' failed with code: ' + status)\n",
    "        except requests.exceptions.HTTPError:\n",
    "                d.append({'status': status, 'id': str(row.GNIS_ID)})\n",
    "                print (str(row.GNIS_ID) + ' failed with code: ' + status)"
   ]
  },
  {
   "cell_type": "markdown",
   "metadata": {
    "collapsed": true,
    "deletable": true,
    "editable": true
   },
   "source": [
    "#There are a lot of polygons that failed to upload to GC2 because the shapefile (along with the geodataframe) are storing geometric values as both polygon and multipolygon (differing by row).  \n",
    "#The formating I used handles the MultiPolygon records but the code will need to be updated to handle both.\n",
    "#The below cells show the format for each type of geometry."
   ]
  },
  {
   "cell_type": "code",
   "execution_count": 8,
   "metadata": {
    "collapsed": false,
    "deletable": true,
    "editable": true
   },
   "outputs": [
    {
     "name": "stdout",
     "output_type": "stream",
     "text": [
      "\n",
      "\n",
      "MULTIPOLYGON (((-9426631.424956707 4359009.450669241, -9427231.440462993 4359295.398155217, -9427269.511728844 4359324.727206897, -9427307.694648137 4359333.027162925, -9427382.836640263 4359316.977054549, -9427493.378119133 4359331.224339937, -9427584.549116053 4359380.612751315, -9427666.147527315 4359373.970183255, -9427704.108030273 4359373.554166858, -9427741.623255268 4359365.529079389, -9427763.442098102 4359372.999524459, -9427779.583201634 4359396.103330605, -9427816.430509679 4359394.165606178, -9427884.670693373 4359372.443221903, -9427951.685917385 4359371.611604271, -9427989.201253699 4359363.586518264, -9428106.758532157 4359226.896176359, -9428151.843148571 4359250.829201242, -9428181.899411084 4359273.102379748, -9428226.205681611 4359241.004856311, -9428271.179535126 4359233.809676241, -9428292.998266643 4359241.418377323, -9428330.735685347 4359263.27635427, -9428354.112889729 4359278.355732163, -9428397.751020677 4359262.444745092, -9428442.168054104 4359260.230072368, -9428480.685265832 4359254.695329425, -9428510.630765453 4359247.085512161, -9428562.618526123 4359193.54412198, -9428599.577932902 4359148.165710679, -9428629.745960185 4359149.133443883, -9428666.481837429 4359148.440881698, -9428764.444659114 4359131.422072298, -9428770.679218518 4359101.124159284, -9428786.264392506 4359086.735928204, -9428815.875599695 4359092.684099897, -9428845.598460335 4359086.319507886, -9428859.959676521 4359040.66541286, -9428866.528083079 4359017.838368931, -9428883.00392431 4358996.117990754, -9428942.115575802 4358988.092770229, -9428979.297064962 4358972.597383878, -9429031.39492061 4358990.027516162, -9429069.243547479 4359021.845801623, -9429114.661899723 4359053.249007406, -9429136.702824946 4359089.49481697, -9429153.956789421 4359135.010081545, -9429191.025957214 4359172.916050962, -9429235.776726468 4359188.13309555, -9429289.321958141 4359194.495811025, -9429340.863772934 4359185.64049923, -9429362.905588705 4359170.836976465, -9429377.377679106 4359155.065186894, -9429391.293728655 4359103.185235333, -9429398.30763581 4359065.555095915, -9429456.640607459 4359021.421913205, -9429495.158598423 4358974.937337132, -9429524.882460941 4358906.180083284, -9429561.953632489 4358839.636471638, -9429590.675508261 4358779.595605265, -9429635.204417774 4358756.214920568, -9429702.55393422 4358741.825906373, -9429768.790144436 4358725.915298953, -9429796.501350557 4359143.43440271, -9429688.846274763 4359563.601738884, -9430004.214280864 4359793.536808206, -9430317.807854278 4359663.754079668, -9430196.930138046 4358765.194247366, -9430298.126345666 4358481.043218439, -9430535.689040827 4358291.240698921, -9431231.667402821 4358337.013759861, -9432481.5777849 4358456.507650233, -9432594.23455674 4358463.422037716, -9432661.249892069 4358462.59035213, -9433854.386999886 4358550.407548358, -9433763.469143489 4357067.249960423, -9434324.198442997 4356853.121286854, -9434309.726018634 4356878.848531132, -9434672.419057218 4356738.447535646, -9434671.528278653 4356745.778253756, -9435475.955981011 4356372.448980681, -9436409.174879568 4356438.257402893, -9436398.719752988 4356011.714921735, -9436716.771115417 4355937.020931958, -9436823.526952364 4356066.471665624, -9436803.599761633 4356085.281813727, -9436982.273221651 4356078.776270153, -9437079.679779846 4356128.702133888, -9438102.397879209 4356393.671530422, -9438325.934207207 4356402.378623272, -9439715.768068518 4357885.268063347, -9439635.582078952 4359392.062969431, -9439639.478817726 4359370.065412701, -9439640.256607007 4359437.303092506, -9439572.107148701 4360329.974306609, -9440244.273715025 4360376.029183038, -9440237.927168213 4360428.745322079, -9440239.038693331 4360503.461276249, -9440261.969395239 4360585.787126996, -9440292.6924615 4360676.41529491, -9440322.302555498 4360755.836623169, -9440331.095904715 4360808.969314922, -9440352.691885926 4360838.994479407, -9440383.972328879 4360893.648948538, -9440422.710287167 4361002.544302238, -9440483.044449298 4361130.25877517, -9440476.364055334 4361175.506497477, -9440461.668546716 4361213.559287682, -9440423.817582136 4361266.418880557, -9440382.068654271 4361393.447521082, -9440336.423878182 4361499.998029753, -9440278.86791658 4361590.359787059, -9440242.462880865 4361704.246075765, -9440206.281152051 4361784.645468005, -9440132.138029722 4361876.808996237, -9440102.301511887 4361967.865146534, -9440170.208627654 4361959.56024784, -9440259.823489416 4361958.86570542, -9440326.839492664 4361979.067512136, -9440342.868942743 4362024.595024883, -9440358.007614249 4362077.318704226, -9440381.271606717 4362188.302261567, -9440373.255378861 4362233.416194993, -9440366.796955969 4362308.421620094, -9440466.313909069 4362562.63819308, -9440482.56566417 4362626.850842848, -9440505.385937145 4362667.952288435, -9440527.315431552 4362716.665470383, -9440587.652376674 4362718.601303366, -9440684.948505931 4362717.629650232, -9440730.25642924 4362740.324645017, -9440849.592593161 4362828.892601352, -9440941.320632813 4362916.631748902, -9441037.391579757 4362946.52233662, -9441096.281037541 4362960.913664313, -9441045.96284659 4362969.910762344, -9441098.507427357 4362963.543179957, -9441143.481948787 4362956.345228411, -9441188.456581544 4362950.392978677, -9441233.764950128 4362950.80691935, -9441287.200198144 4362937.104259877, -9441338.854000345 4362938.071504228, -9441383.717202285 4362932.119264627, -9441414.442717582 4362918.278925993, -9441428.80359981 4362903.747046324, -9441459.529337743 4362878.835179757, -9441483.019086132 4362851.709341398, -9441512.408544898 4362837.592318518, -9441543.134060189 4362823.752101749, -9441572.412422102 4362801.054854694, -9441603.026506582 4362787.214685034, -9441618.16640261 4362787.767704686, -9441669.598011108 4362768.94484696, -9441707.559070664 4362768.390167564, -9441744.517586887 4362797.4516426, -9441781.030825144 4362829.142679026, -9441810.530490205 4362867.476873596, -9441860.73613715 4362911.761492537, -9441903.928433532 4362951.756311924, -9441949.458773188 4362983.170735425, -9442000.555643974 4362999.084745319, -9442052.765932309 4363005.172650239, -9442128.242773456 4363007.661566241, -9442165.536027387 4363002.124753063, -9442188.023232443 4363003.50802192, -9442203.274447963 4363002.677230211, -9442255.373416806 4363010.010702676, -9442269.511214774 4363019.144438992, -9442284.53979131 4363019.697608994, -9442322.389531376 4363020.388483352, -9442350.887877613 4363034.919136948, -9442395.751079561 4363028.828447238, -9442463.21280605 4363024.259428831, -9442545.36937324 4363012.770184387, -9442643.222433915 4362996.71346792, -9442695.655695193 4362991.591433005, -9442725.045265278 4362977.612621934, -9442755.88198874 4362962.526664495, -9442784.603419239 4362954.775685338, -9442817.444227496 4362933.60036986, -9442839.820224382 4362926.264735269, -9442854.514953764 4362919.34456749, -9442922.088111063 4362913.530041235, -9442980.087346883 4362914.08196024, -9443055.007145293 4362931.379127277, -9443107.550946826 4362956.288763053, -9443143.952531636 4363000.297371457, -9443179.575213967 4363029.359474302, -9443253.493025646 4363055.375819486, -9443297.576323237 4363076.687696254, -9443334.535396053 4363084.713620148, -9443380.400473416 4363081.252308256, -9443410.012014564 4363097.167155543, -9443475.357891493 4363120.969579925, -9443505.303279797 4363144.357832136, -9443534.580528514 4363173.835658257, -9443563.746346422 4363204.559291814, -9443570.202431606 4363235.283566905, -9443584.562200639 4363272.927629188, -9443599.033289164 4363310.710223538, -9443620.517839571 4363341.849588608, -9443655.694687344 4363395.686254777, -9443684.860505253 4363426.548924861, -9443706.567805951 4363456.304468181, -9443728.163787169 4363486.198634711, -9443749.536572799 4363539.759772453, -9443755.99254667 4363570.346603598, -9443778.145014022 4363606.607525372, -9443800.074731065 4363645.221582021, -9443835.808398934 4363684.112172095, -9443880.336640526 4363723.002626265, -9443916.181739202 4363760.647706998, -9443945.23634894 4363792.618676542, -9443973.957111521 4363816.008392247, -9444004.347777788 4363836.906973962, -9444018.039963832 4363859.605165723, -9444032.065885715 4363889.915954865, -9444062.233690355 4363922.025578986, -9444091.844897544 4363949.152599748, -9444120.231590338 4363976.003010202, -9444163.869053369 4364022.230208564, -9444201.9407645 4364052.679036133, -9444229.993276177 4364092.124881518, -9444274.744156757 4364129.632707881, -9444317.713591522 4364181.950662855, -9444339.643308565 4364220.56678942, -9444360.793677859 4364265.273197127, -9444374.819377102 4364305.550716351, -9444395.747218734 4364341.537433752, -9444410.106987767 4364380.569514477, -9444431.368676551 4364424.030858928, -9444437.156399518 4364470.814754412, -9444444.725345651 4364512.754169958, -9444459.196768137 4364539.329573902, -9444472.665981248 4364574.486715489, -9444487.36004271 4364599.81638373, -9444516.637291426 4364629.298345808, -9444539.012620395 4364653.105413885, -9444567.844702473 4364676.358587266, -9444573.966606548 4364709.440183039, -9444594.671586554 4364757.885931925, -9444610.367746079 4364774.634055858, -9444616.378108026 4364818.789508928, -9444631.294919793 4364841.766755397, -9444644.652813407 4364878.170670114, -9444667.473531662 4364898.240935449, -9444689.069624197 4364918.172817538, -9444718.792707475 4364922.878294658, -9444761.874240963 4364942.809668824, -9444800.057716861 4364950.975409484, -9444837.127886532 4364967.723281085, -9444873.529916622 4364990.561732619, -9444917.94706136 4365020.597902895, -9444940.099862672 4365035.685230711, -9444976.279253775 4365061.015433838, -9445005.890794925 4365076.933078581, -9445042.849756423 4365084.822213862, -9445072.461186254 4365100.739893919, -9445094.836849177 4365114.581524494, -9445094.502334109 4365138.113514036, -9445026.016356984 4366111.96703854, -9444841.519106487 4367653.703982934, -9443208.638283985 4367580.784397793, -9443200.400752986 4367565.000800485, -9443187.154178856 4367528.587768153, -9443180.698093668 4367497.851197824, -9443157.988583593 4367486.637116411, -9443143.517161105 4367460.054411359, -9443136.393047655 4367435.548432497, -9443129.603003994 4367407.304280671, -9443108.118453586 4367376.153115725, -9443101.216756482 4367360.50827181, -9443079.731983436 4367339.325783737, -9443057.802266391 4367300.698431309, -9443051.346292522 4367270.100965098, -9443036.76355055 4367244.764992235, -9443029.639659736 4367209.045021732, -9443023.072255056 4367179.693866531, -9443009.380180329 4367156.850062476, -9442995.354147123 4367126.668631284, -9442980.437446682 4367103.686629604, -9442958.841465464 4367072.536346341, -9442951.383393543 4367050.523321757, -9442951.940324951 4367035.709364424, -9442952.942868287 4367005.943063422, -9442946.598213907 4366975.346437924, -9442918.101092184 4366907.231677996, -9442889.158135898 4366864.175888932, -9442861.106403453 4366792.462126727, -9442846.634869648 4366776.956717237, -9442832.051905036 4366761.589913176, -9442809.787672922 4366746.638464233, -9442780.176131772 4366730.718342239, -9442765.593278477 4366715.351465967, -9442742.883434439 4366715.213714219, -9442714.608283779 4366677.004216304, -9442699.691583332 4366654.161482651, -9442693.235498141 4366623.56586044, -9442693.013527077 4366593.662399002, -9442694.461237052 4366571.373195911, -9442694.239265993 4366541.469879963, -9442702.923188148 4366511.427929137, -9442703.703315137 4366472.941306239, -9442712.053390145 4366435.285325059, -9442712.387571255 4366421.579877076, -9442712.276697043 4366401.782949818, -9442698.473414142 4366368.973291983, -9442691.460731501 4366343.362291995, -9442676.989309015 4366316.782419748, -9442655.616078105 4366284.388475516, -9442640.921793999 4366270.268320921, -9442634.799555965 4366247.149300519, -9442619.882855516 4366224.169182875, -9442604.966155067 4366201.327551799, -9442591.273969021 4366178.624267946, -9442584.817883832 4366147.891565163, -9442577.804867236 4366133.494440411, -9442569.233600402 4366110.098980844, -9442571.1269223 4366072.859718599, -9442571.016048089 4366053.06357322, -9442579.588762073 4366012.91723709, -9442588.495100575 4365991.598144394, -9442611.3168207 4365969.309499875, -9442633.692817584 4365961.971928479, -9440839.284964915 4365764.202984925, -9440900.735550223 4365746.482081218, -9440489.95505197 4365718.392296669, -9439814.252533339 4364512.194832719, -9438817.777447339 4365617.939819853, -9437817.320463153 4365569.379859972, -9437837.587623607 4365275.637569317, -9437739.846439019 4365269.134484717, -9437758.779769335 4364880.720925413, -9437540.369035963 4364671.023141333, -9436098.078202333 4364319.352427268, -9435522.317209342 4364288.087730973, -9434962.919736229 4364299.730317854, -9434665.77651188 4365350.062655622, -9434629.584764311 4365900.87414701, -9434511.025276478 4365931.74817538, -9434545.644970199 4366010.516083923, -9434513.469852492 4366141.06138005, -9434344.033572502 4366279.36468529, -9434307.297361303 4366279.919407751, -9434104.804869846 4366304.843046702, -9433873.926019549 4366313.847101723, -9433699.032635482 4366737.619094004, -9433826.266138041 4367011.461314048, -9433841.405254826 4367033.058775813, -9433862.332428541 4367079.161389793, -9434306.392445164 4366946.93348489, -9434440.759300696 4366921.73256851, -9434585.146802826 4366834.092469883, -9434573.454694068 4366983.337482035, -9434572.563470228 4367011.857551638, -9434558.529310701 4367358.674055952, -9434544.371475222 4368281.910352785, -9434472.321715917 4369391.340607336, -9434539.671788961 4369399.231946879, -9435627.629789092 4369363.612536268, -9436091.734883785 4369338.258046637, -9436434.943337936 4369319.830817741, -9437001.0199805 4369297.658639614, -9436965.83834599 4369464.11006741, -9437161.205833444 4369666.285745281, -9438208.092507452 4370770.842355927, -9438756.139288688 4371444.907470993, -9440581.290913051 4373436.045175502, -9440573.944049295 4373497.55301635, -9440551.67948322 4373503.649099851, -9440535.871558931 4373488.13398194, -9440461.173954222 4373489.382843024, -9440388.146253189 4373498.250938425, -9440328.700086635 4373529.976240985, -9440283.280509878 4373550.757167864, -9440230.736263067 4373567.105510686, -9440178.971141376 4373567.245428481, -9440124.868087737 4373543.557925866, -9440066.31180919 4373484.406655421, -9439998.627332397 4373447.836506009, -9439946.528140916 4373440.495754647, -9439871.274050066 4373456.567421295, -9439804.369254993 4373487.461688841, -9439760.062984459 4373509.627850443, -9439684.92010178 4373524.591365361, -9439565.248309596 4373552.993632872, -9439452.923715122 4373573.49947874, -9439394.145354191 4373579.042444662, -9439364.867548876 4373601.762511772, -9439326.016156035 4373630.855433756, -9439296.404614884 4373687.239325426, -9439267.461213319 4373759.831953487, -9439245.531050995 4373826.88350024, -9439215.4748998 4373961.679986199, -9439179.407050824 4374072.095692058, -9439142.2257843 4374149.955723532, -9439104.933309609 4374240.146339451, -9439054.393815512 4374397.392554533, -9439017.546507459 4374482.874884329, -9438994.725677885 4374526.239756886, -9438965.225456232 4374571.406172831, -9438949.974352034 4374593.296792762, -9438928.155397881 4374638.047575346, -9438920.029186374 4374684.460692096, -9438919.138741767 4374713.001395069, -9438919.584353684 4374751.656019146, -9438920.920298895 4374771.745328441, -9438921.365910819 4374810.400164471, -9438899.101790015 4374879.952175946, -9438876.949211353 4374969.594319268, -9438854.351020761 4375020.442927528, -9438839.879375638 4375067.412185531, -9438809.599917544 4375119.924165653, -9438788.671519317 4375157.333834845, -9438757.056116011 4375209.707702043, -9438713.974693842 4375284.389382029, -9438683.917986048 4375345.631278149, -9438655.308431638 4375404.518206776, -9438633.712116467 4375458.001460686, -9438595.528529247 4375481.002904281, -9438566.473474232 4375502.479987571, -9438542.984393761 4375518.414665806, -9438536.639405426 4375571.205280759, -9438536.194572737 4375638.406170161, -9438528.4023197 4375682.329544105, -9438506.583142912 4375706.023854338, -9438476.080823194 4375728.610010677, -9438423.759326689 4375763.667101853, -9438379.34184799 4375818.261334398, -9438335.035800092 4375871.608646122, -9438291.731293662 4375895.165366726, -9438223.156594904 4375918.307143315, -9438142.447737688 4375948.654534562, -9438103.596122203 4375966.668883122, -9438065.969132444 4375985.930197089, -9438043.927539304 4376031.933876791, -9438015.095123276 4376062.141639588, -9437985.483582126 4376108.561481193, -9437963.441877669 4376144.589083686, -9437933.830225199 4376180.894078473, -9437903.773294769 4376219.831964754, -9437858.576468311 4376249.347837374, -9437843.659545226 4376309.902133927, -9437822.174660863 4376362.281359728, -9437815.161755586 4376431.150046477, -9437800.801429953 4376476.878359708, -9437785.884395551 4376517.479753735, -9437756.161534909 4376565.010277274, -9437688.922892675 4376619.470576867, -9437651.184694745 4376669.911715807, -9437621.795681257 4376693.746922341, -9437592.406779088 4376738.922478522, -9437561.681931714 4376783.959651187, -9437533.183696795 4376852.831603802, -9437502.793030528 4376926.554432601, -9437489.100510521 4376956.071421485, -9437480.751548713 4376993.764242058, -9437474.851727022 4377032.842968162, -9437451.140118882 4377061.251905789, -9437369.429386251 4377100.333095417, -9437279.480788661 4377143.43320999, -9437183.52071593 4377184.455086114, -9437100.251399107 4377214.667624174, -9437025.999183679 4377243.355589977, -9436974.456700969 4377252.226100722, -9436915.455812378 4377290.19851074, -9436876.492988721 4377320.410099902, -9436817.826169915 4377366.004875954, -9436757.823405908 4377402.59186853, -9436683.682509972 4377441.258278956, -9436631.694860619 4377452.623442453, -9436563.119939219 4377455.812647246, -9436503.896077683 4377443.896198715, -9436444.226938188 4377435.582908025, -9436399.029555133 4377390.406491714, -9436346.707502028 4377342.043172829, -9436300.397035386 4377327.909137106, -9436234.159934612 4377332.484116401, -9436181.393160144 4377371.288301033, -9436039.679997461 4377519.159295619, -9435928.357723681 4377614.507862489, -9435840.413099565 4377693.919339322, -9435787.757755904 4377753.651254892, -9435742.116096759 4377859.255614546, -9435728.535007566 4377919.957465097, -9435705.60296982 4377994.518902125, -9435707.05034584 4378024.592779643, -9435675.991428677 4378050.925629795, -9435654.728960652 4378070.744639917, -9435632.6872562 4378106.778705601, -9435632.353409046 4378130.477826064, -9435632.353743002 4378182.726672295, -9435631.686048701 4378230.125163301, -9435632.576938581 4378265.050464991, -9435647.60584908 4378317.85406642, -9435639.813484725 4378361.788431274, -9435633.134426592 4378407.108927139, -9435618.328711679 4378445.222919683, -9435596.509757528 4378490.12839603, -9435552.537334148 4378519.789123387, -9435492.868639931 4378573.843296609, -9435447.783021646 4378612.235909772, -9435401.695973217 4378701.494194823, -9435388.114884019 4378760.953423516, -9435365.850540586 4378799.484614821, -9435328.33498163 4378837.461957982, -9435284.028599784 4378859.639332832, -9435238.49770353 4378890.40989456, -9438299.13437376 4383969.174530935, -9434310.874279181 4383855.297111152, -9434328.79705116 4383842.400796819, -9432064.427585386 4383782.552938768, -9432020.678914184 4383829.699877469, -9431999.639641743 4383868.387989192, -9431986.170094678 4383906.798630864, -9431967.023253579 4383960.601577517, -9431960.344306771 4384004.697781482, -9431947.542787967 4384058.085077034, -9431919.935442932 4384088.454029446, -9431862.828432836 4384152.797599701, -9431810.842007997 4384195.370334529, -9431760.191417044 4384216.726794014, -9431715.552078599 4384240.163078289, -9431672.582532518 4384271.364989957, -9431629.167708466 4384296.187968913, -9431599.667932086 4384320.040164996, -9431563.266347274 4384359.423688563, -9431520.630870983 4384398.114271004, -9431462.744401811 4384437.359963538, -9431426.231386198 4384446.790577546, -9431373.131655129 4384456.776309696, -9431321.924355404 4384483.264081758, -9431256.134202387 4384514.189908891, -9431211.494752621 4384527.642424076, -9431174.647778532 4384539.430584379, -9431146.595155528 4384562.312460423, -9431103.736928936 4384603.361118898, -9431076.129806537 4384663.82429945, -9431040.285153141 4384740.651711293, -9431012.789127596 4384779.759289709, -9430971.601027325 4384848.405636471, -9430936.980777005 4384925.373053765, -9430901.692609742 4384987.363538356, -9430881.766532207 4385047.412569142, -9430868.408415951 4385115.644033159, -9430857.16548134 4385187.897598179, -9430874.30923952 4385254.742288291, -9430867.853043012 4385318.814257946, -9430855.830538006 4385334.763279965, -9430850.487313766 4385379.003835262, -9430827.778137647 4385410.069828991, -9430799.836945457 4385441.690796548, -9430764.325916577 4385473.589369562, -9430713.118839489 4385531.284276858, -9430685.066105176 4385554.168275131, -9430671.596558103 4385581.212685245, -9430651.447841594 4385643.622622059, -9430644.657575291 4385688.973970528, -9430616.827702595 4385720.595762804, -9430527.771442046 4385745.145973596, -9430483.243423084 4385768.585746132, -9430431.590734081 4385787.448775621, -9430393.964523556 4385795.493671994, -9430345.31768344 4385842.094996793, -9430303.127596427 4385898.266001212, -9430267.727887036 4385928.917703223, -9430230.658385284 4385963.31434191, -9430178.560306992 4385954.577935261, -9430131.360286299 4385926.701951354, -9430084.939390725 4385881.350981568, -9430040.522468615 4385862.351313817, -9429980.186748009 4385859.024239578, -9429935.435867436 4385852.506844078, -9429889.905861741 4385862.077536442, -9429844.598495027 4385870.538841697, -9429808.641965542 4385864.992142453, -9429735.949781457 4385890.097036836, -9429631.642639346 4385916.450914992, -9429542.252531644 4385943.359351637, -9429461.656552397 4385961.39136376, -9429446.405670833 4385962.085244697, -9429408.890779799 4385990.102094583, -9429380.504087005 4385994.124756939, -9429327.6268836 4385981.782439202, -9429282.764683537 4385976.374514106, -9429245.027042197 4385984.419691305, -9429215.972543778 4385994.82224602, -9429180.238764599 4386017.984901067, -9429121.12778103 4386057.236538575, -9429099.309049515 4386059.594895178, -9429068.918494567 4386059.734282892, -9429032.739437418 4386076.655825958, -9428866.650089242 4386225.47948611, -9428846.055983445 4386249.197011503, -9428815.888178799 4386258.212994245, -9428793.401419021 4386255.57844855, -9428763.901531322 4386259.462652641, -9428734.735602098 4386269.865474935, -9428697.44346136 4386306.621066696, -9428676.515285769 4386332.835331905, -9428654.362707101 4386358.910963255, -9428650.021358281 4386384.570146728, -9428672.842299175 4386435.888004906, -9428689.985834712 4386472.781479989, -9428683.195457092 4386496.915237584, -9428662.267392823 4386534.364695727, -9428648.018498 4386557.666665482, -9428590.465987304 4386583.188873214, -9428545.15862059 4386591.650749127, -9428484.488941513 4386601.916025558, -9428456.436207196 4386603.581134487, -9428425.377735307 4386588.740938263, -9428387.751302138 4386575.565312419, -9428357.13821953 4386576.953015338, -9428321.849829631 4386607.745503028, -9428264.297430255 4386664.614317601, -9428243.14661568 4386693.187402066, -9428213.6468393 4386717.18364791, -9428154.535744414 4386735.216410282, -9428102.326457951 4386737.714312973, -9428051.898505986 4386777.939378873, -9427985.329005208 4386795.001455921, -9427941.246152898 4386803.602064652, -9427902.729163805 4386797.777473725, -9427857.978394551 4386791.259506004, -9427820.908670153 4386794.311959454, -9427776.491748052 4386795.422699307, -9427702.79779987 4386829.129436702, -9427665.171366703 4386815.953514609, -9427620.086527651 4386801.945524208, -9427581.569649879 4386796.120934181, -9427545.167842431 4386804.305293402, -9427508.432187829 4386814.986331305, -9427479.043730941 4386837.595807098, -9427434.181642195 4386853.547788148, -9427383.085550645 4386867.558204147, -9427352.361037226 4386850.082255795, -9427314.734604059 4386837.045012205, -9427285.23471636 4386829.833083248, -9427306.385530932 4386822.342641251, -9427313.287339356 4386806.946354704, -9427321.079703711 4386784.060091256, -9427311.283365885 4386760.48077623, -9427304.047376346 4386747.165542061, -9427264.528511833 4386718.871244653, -9427226.790759182 4386695.708874365, -9427182.596476054 4386684.197683375, -9427128.605966425 4386670.467547329, -9427068.715523779 4386674.630138783, -9427025.523338711 4386706.94863669, -9426959.510324074 4386709.030840881, -9426920.9934463 4386713.331595266, -9426884.480319364 4386711.529292275, -9426838.727674687 4386713.610942551, -9426778.391954079 4386700.158312527, -9426741.878827142 4386708.342598286, -9426704.92053356 4386731.506799074, -9426661.171639722 4386727.485523729, -9426653.490483537 4386727.901771148, -9426607.515088564 4386721.245143204, -9426570.222725185 4386715.559299892, -9426540.277448205 4386702.105973902, -9426486.064299589 4386689.485434081, -9426456.452869764 4386652.314084784, -9426417.824449858 4386616.530156671, -9426393.779105889 4386595.032144794, -9426361.496008279 4386558.832028839, -9426338.11858126 4386522.354496255, -9426321.976809811 4386477.97106547, -9426298.265424313 4386444.129232468, -9426266.427604672 4386404.184761591, -9426237.03881382 4386375.752396055, -9426207.53903744 4386399.747929482, -9426177.037274327 4386421.108236772, -9426135.069603661 4386454.674262576, -9426076.960606825 4386495.31450201, -9426017.292803166 4386496.980426548, -9425949.832635147 4386500.172050738, -9425882.483786618 4386502.254214657, -9425808.344337832 4386498.511118902, -9425763.704888068 4386521.952542961, -9425721.403370248 4386568.001953213, -9425691.569746712 4386615.71570171, -9425633.237776943 4386617.520207769, -9425595.945413565 4386611.834419625, -9425563.996163113 4386551.916552076, -9425547.631752685 4386508.919999178, -9425500.654259652 4386458.434680417, -9425469.484579597 4386454.829189769, -9425417.720571095 4386453.582143829, -9425366.401840564 4386470.0886276, -9425320.649195887 4386482.156606152, -9425262.20612926 4386505.182032984, -9425234.264825754 4386536.806239123, -9425212.446094239 4386560.385754371, -9425205.321646826 4386577.029994367, -9425168.140825583 4386612.538329271, -9425066.616336787 4386563.0246749, -9425036.448532138 4386582.027390837, -9424992.922388606 4386606.717171267, -9424955.073427774 4386606.024635512, -9424901.751057724 4386628.356682283, -9424878.819131304 4386650.688220895, -9424850.321230339 4386687.167439645, -9424796.442262838 4386724.479554819, -9424766.052153168 4386787.035284705, -9424758.037261151 4386822.127372433, -9424757.592317151 4386898.137229389, -9424794.885014484 4386966.240549495, -9424794.550944688 4386958.611722148, -9424809.468090415 4386981.636510622, -9424810.024799187 4387019.087111804, -9424786.981553275 4387041.280620874, -9424764.049626853 4387063.613021992, -9424732.323349332 4387074.849009873, -9424717.851815535 4387100.510189011, -9424681.116160933 4387121.178495, -9424643.712589383 4387137.824301589, -9424597.069500102 4387167.37016583, -9424538.403571859 4387160.436263334, -9424456.916814042 4387144.486737246, -9424418.733783424 4387115.081724804, -9424381.886475371 4387074.580194912, -9424315.984668907 4387044.343687447, -9424262.773507029 4387044.206228793, -9424233.162188523 4387028.255766449, -9424218.022403812 4387006.617942745, -9424165.702131821 4387072.643562273, -9424127.630754652 4387125.630606973, -9424104.92157853 4387156.5629673, -9424066.961520847 4387208.163336438, -9424029.223990832 4387237.431837325, -9423977.682621319 4387245.062112025, -9423924.916848721 4387252.553682453, -9423879.164204046 4387274.609659741, -9423833.856837332 4387304.155902009, -9423804.023213806 4387341.74703744, -9423774.078159457 4387379.338305053, -9423737.565143839 4387408.745986317, -9423668.212433161 4387406.805686637, -9423601.976890862 4387421.371952728, -9423578.377047492 4387448.560075818, -9423548.209242851 4387467.425514572, -9423510.805671301 4387494.197893657, -9423503.903974194 4387509.595169968, -9423494.887206756 4387552.180300229, -9423488.764746083 4387602.533318278, -9423457.038579887 4387644.980658815, -9423435.776557149 4387684.792160265, -9423411.842866624 4387714.339120094, -9423411.843089262 4387766.773508882, -9423432.548959827 4387835.298930801, -9423455.481331535 4387896.611311036, -9423410.507811975 4387902.5772996, -9423357.741928058 4387910.069330827, -9423312.65731165 4387947.108138213, -9423252.767091641 4387992.470507173, -9423221.486314733 4388041.161653295, -9423169.277250912 4388096.096004071, -9423130.983234756 4388140.209959229, -9423078.328781657 4388177.527284947, -9423033.021414943 4388185.990284196, -9422981.814003902 4388201.112222721, -9422922.257631045 4388222.754267737, -9422876.504986368 4388244.812108171, -9422807.931846088 4388309.042387227, -9422740.805859178 4388372.163119505, -9422718.541961018 4388409.341697956, -9422688.040197905 4388430.705882232, -9422648.744195016 4388452.347975942, -9422620.691572012 4388475.099501886, -9422589.522003274 4388512.69475532, -9422551.116556311 4388536.834089632, -9422515.716735603 4388557.505034181, -9422478.201733243 4388564.303613305, -9422440.686730884 4388571.102058016, -9422394.488808246 4388586.779310772, -9422349.292872349 4388625.207738347, -9422334.264852408 4388675.704816973, -9422317.344289808 4388721.208035817, -9422273.038798515 4388742.157072503, -9422251.554136796 4388773.232840419, -9422227.509015463 4388804.031238977, -9422221.386554791 4388833.303277465, -9422212.147148373 4388878.252105284, -9422188.992582969 4388901.836785813, -9422167.396490434 4388922.924353015, -9422122.311874026 4388961.215257326, -9422068.766753672 4388974.81223983, -9422017.55934263 4388989.935294427, -9421965.016097702 4389005.058370416, -9421920.599286912 4389006.030607538, -9421882.193617312 4388988.967498199, -9421837.442736739 4388972.459482966, -9421807.942737715 4388965.246251896, -9421794.250217708 4388942.355922037, -9421792.802953012 4388912.251336051, -9421794.472522734 4388867.580104049, -9421809.27801501 4388829.428959026, -9421793.581744166 4388812.64303663, -9421765.194940055 4388806.67834358, -9421733.691412846 4388836.644734312, -9421697.957522342 4388849.824950803, -9421659.218005588 4388835.397965414, -9421637.399051435 4388806.542804489, -9421600.885701854 4388753.549230466, -9421563.370476859 4388718.035586662, -9421525.744043691 4388694.869023018, -9421452.049761554 4388676.142504393, -9421398.949919168 4388676.005163491, -9421398.282336179 4388743.288269212, -9421441.920355808 4388842.062291595, -9421374.238328043 4389044.750217019, -9421200.912767682 4389147.833060254, -9421184.660122029 4389167.117563367, -9421184.882761011 4389185.846607092, -9421177.869744407 4389222.333923467, -9421184.326608833 4389284.209760052, -9421176.200397324 4389329.437818921, -9421175.421383526 4389366.757909713, -9421168.519575095 4389403.384581395, -9421174.86500871 4389434.04536423, -9421191.006557517 4389457.214223891, -9421205.033147315 4389487.597406245, -9421174.976662163 4389516.455793439, -9421144.920177011 4389524.087140279, -9421107.071104864 4389502.167340731, -9421078.572981261 4389486.351948796, -9421048.182537632 4389486.491381199, -9421017.903413501 4389496.620005476, -9420995.527861889 4389482.746685354, -9420956.788233817 4389468.180245804, -9420921.388190465 4389436.548892252, -9420883.650549132 4389424.479658927, -9420830.662026236 4389454.448198181, -9420762.756691573 4389481.364987122, -9420718.562519772 4389512.165981383, -9420658.227021798 4389550.043194553, -9420590.65553429 4389564.473642015, -9420590.766965104 4389594.441463937, -9420403.748662096 4389623.303885651, -9420156.728596956 4389666.458090897, -9420087.932929005 4389763.023543764, -9419953.012481648 4389769.547763645, -9419933.419360714 4389618.73696606, -9419722.578575358 4389666.191153125, -9419570.960872304 4389871.394038538, -9419525.876255888 4389939.657131419, -9419595.339284191 4389682.288178463, -9419252.582007935 4389348.491652762, -9418708.227026293 4389928.716293397, -9418641.100705426 4389929.550425072, -9418618.391306663 4389918.173940249, -9418588.000751723 4389918.313378287, -9418551.265097121 4389928.858783951, -9418519.42750011 4389951.336102649, -9418469.555700317 4389914.153963249, -9418424.582292082 4389929.971930756, -9418386.844650742 4389938.019945341, -9418348.995689917 4389937.327193717, -9418317.937218027 4389922.343623932, -9418303.910739549 4389891.959066749, -9418281.201229466 4389870.593209893, -9418251.812549939 4389862.130541496, -9418214.742825549 4389855.194335637, -9418199.046666024 4389869.623946474, -9418183.907215277 4389900.286622028, -9418167.877208605 4389938.302845533, -9418145.724407293 4389943.159323005, -9418116.558366748 4389923.458434985, -9418101.641443664 4389931.644772925, -9418078.932156224 4389961.336551026, -9418056.111549294 4389972.436562978, -9418033.624678193 4389938.583525809, -9417997.445398407 4389924.293814945, -9417959.373798596 4389914.721427297, -9417928.760604668 4389916.109563797, -9417900.374023199 4389931.372140007, -9417883.78730775 4389953.155323897, -9417869.204343136 4389968.83377169, -9417854.06478107 4389968.279208051, -9417832.57978539 4389947.051804543, -9417823.562795315 4389917.360898597, -9417816.660875566 4389901.544337205, -9417815.992847299 4389886.421241219, -9417801.409771366 4389871.021095452, -9417785.713611849 4389875.461311066, -9417764.674005447 4389871.577041484, -9417749.534443382 4389871.161087852, -9417727.159003096 4389857.148676705, -9417703.670256579 4389841.887455192, -9417681.628774757 4389846.88277098, -9417674.393007861 4389864.64207819, -9417666.823393807 4389895.026973928, -9417644.447953513 4389902.242220035, -9417614.280037554 4389890.033439317, -9417577.655591125 4389879.351131814, -9417562.627348542 4389887.537435969, -9417569.863338089 4389932.073909634, -9417562.070973733 4389954.828169697, -9417555.391804283 4389977.721084547, -9417525.335430451 4390006.580795364, -9417473.348894287 4390059.16656476, -9417412.902076833 4390098.016804593, -9417360.80410986 4390130.62342685, -9417337.204155173 4390106.482157243, -9417345.219047191 4390061.389555714, -9417345.998060986 4390024.067038978, -9417306.924363125 4389970.789937223, -9417255.271562796 4389927.225623121, -9417187.922491631 4389887.962824822, -9417119.34890607 4389858.689562365, -9417015.264180297 4389851.200049868, -9416911.06813504 4389843.849285969, -9416842.494660798 4389835.665096438, -9416820.119443148 4389872.987510124, -9416798.634670105 4389904.066566463, -9416677.6291591 4389889.640100221, -9416610.614157723 4389867.997870631, -9416558.293551771 4389881.734750737, -9416521.78064747 4389942.227791544, -9416491.94713526 4390062.242844722, -9416433.059347272 4390243.586479197, -9416394.320053155 4390311.43542404, -9416313.724073904 4390349.177136756, -9416215.205545314 4390378.594378244, -9416163.107578341 4390401.073198001, -9416088.300546572 4390484.602902476, -9416006.034997595 4390577.152331496, -9415946.701375045 4390658.601687105, -9415931.562035616 4390710.495921145, -9415917.090390492 4390724.92668705, -9415915.866098734 4390807.208316737, -9415902.285343498 4390876.58660994, -9415775.49133029 4390898.929385471, -9415752.447973054 4390911.279325042, -9415648.363247288 4390913.779452743, -9415617.75016468 4390936.397600995, -9415580.791871099 4390959.432209376, -9414987.676058177 4390953.757709206, -9414927.89637843 4390790.720664581, -9414838.951548686 4390886.186778169, -9414763.476822609 4391048.118537864, -9414870.456523051 4391239.18804153, -9415026.52745102 4391111.802442343, -9415026.638881834 4391141.774465516, -9414884.37168204 4391269.576291367, -9414861.550963791 4391270.548179499, -9414721.064764533 4391383.642759893, -9414585.587719724 4391383.646090211, -9414562.099084526 4391389.613470771, -9414487.180399306 4391390.725382139, -9414428.736998726 4391382.539730122, -9414366.731485752 4391371.440334588, -9414315.858033184 4391384.068902133, -9414270.995833119 4391398.640173988, -9414210.326265359 4391428.892056146, -9414165.241537627 4391465.942923033, -9414128.951272305 4391503.96527273, -9414106.353193039 4391512.569255551, -9414075.851429921 4391523.948687048, -9414039.115664 4391534.495677575, -9414001.04406419 4391534.912806086, -9413972.323301606 4391542.684360093, -9413926.681976428 4391573.491297089, -9413873.916092513 4391580.986041169, -9413843.748287864 4391599.858776443, -9413811.910468223 4391549.904049331, -9413730.312279597 4391502.726102175, -9413819.034470353 4391388.521541454, -9413728.641930634 4391320.39128414, -9413698.696876293 4391357.996688004, -9413534.943790264 4391217.435122014, -9413437.8726377 4391326.920201631, -9413647.266937589 4391426.685571081, -9413639.251934253 4391450.69175346, -9413685.227440545 4391488.573202704, -9413633.129362255 4391458.740219785, -9413386.220060008 4391345.654419041, -9413243.952526266 4391391.03329821, -9413693.800154531 4391810.23325071, -9413604.187185206 4391818.284069443, -9413596.506362984 4391902.23950006, -9413716.843845721 4391901.542596737, -9413664.189503938 4391990.21801246, -9413641.369008327 4392052.24934619, -9413604.522368191 4392187.691983926, -9413598.177268539 4392239.315958484, -9413574.911494963 4392315.226135664, -9413567.787158869 4392352.973123871, -9413516.357220165 4392420.558190503, -9413509.01024509 4392480.787498116, -9413471.940743338 4392556.144693409, -9413434.09200515 4392616.51423883, -9413404.480909279 4392661.756961535, -9413353.050970575 4392730.454228702, -9413352.049206479 4392759.042981565, -9413352.939873721 4392782.774456596, -9413359.619154489 4392811.085646939, -9413211.340145603 4392790.966039048, -9413174.048561459 4393053.543967984, -9413292.493724182 4393078.938745998, -9413331.233240936 4393083.517692687, -9413330.788074292 4393097.118673425, -9413339.471217215 4393129.455352253, -9413323.441099219 4393167.483068741, -9413317.207319055 4393217.862694516, -9413325.222545028 4393256.167607198, -9413354.165946594 4393278.372964018, -9413383.443306634 4393286.8382003, -9413398.360452356 4393331.111131737, -9413406.486886507 4393368.16748717, -9413437.768108696 4393391.899621764, -9413459.36431255 4393390.78875117, -9413488.084963813 4393384.264956361, -9413525.933813319 4393353.730512991, -9413564.005524449 4393353.31317466, -9413600.85260986 4393372.742671771, -9412816.933965204 4393611.203479033, -9413116.164318684 4393814.111680284, -9413297.395121358 4394091.56078604, -9412932.04332806 4394839.300756133, -9413007.741361039 4394851.930371077, -9412977.684875889 4394869.698556981, -9412969.669761226 4394883.718378197, -9412955.754824882 4394904.401191203, -9412881.058444681 4394821.950988199, -9412649.28859318 4394718.129197915, -9412477.410631483 4395055.854094726, -9412432.325903751 4395092.917685319, -9412373.103489373 4395132.063862845, -9412327.57337236 4395151.637491279, -9412283.379089233 4395140.117186166, -9412238.405569678 4395124.710157862, -9412215.696170915 4395124.433089193, -9412170.500012374 4395131.65242392, -9412148.347099749 4395095.284422468, -9412111.500014341 4395095.840501662, -9412051.164182415 4395102.366175112, -9411991.385170577 4395125.132701484, -9411953.758848729 4395163.167942137, -9411945.855387526 4395238.404561145, -9411953.759294007 4395297.955276249, -9411948.082111297 4395343.486296589, -9411931.27264555 4395336.407299104, -9411924.816337723 4395419.279727119, -9411947.3030975 4395422.055488033, -9411924.37117108 4395464.255999361, -9411910.233595748 4395517.422942548, -9411909.899748594 4395541.160687429, -9411902.775412507 4395598.908733183, -9411887.969808912 4395637.084063944, -9411798.913325723 4395630.145356137, -9411679.911676863 4395660.965891318, -9411603.991116229 4395690.536169809, -9411544.100784902 4395724.687026105, -9411507.030949194 4395727.74203305, -9411499.461335139 4395789.239243691, -9411477.642603623 4395811.589800431, -9411530.742891289 4395946.522755965, -9411582.506788464 4395886.411747251, -9411656.868876234 4395847.956493926, -9411723.438377004 4395769.798963138, -9411762.066462949 4395713.159716899, -9411857.913546398 4395727.178147025, -9411843.664540255 4395750.361355564, -9411836.094814884 4395780.624179439, -9411821.289322607 4395818.800160027, -9411829.638395732 4395833.51491706, -9411776.538553346 4395863.501444095, -9411739.580371082 4395937.633112641, -9411912.127919523 4396120.597779531, -9411949.8652269 4396020.227424334, -9411948.974893613 4396088.66740365, -9411956.54495295 4396150.860542415, -9411957.658259172 4396193.340892459, -9411935.282930205 4396231.93496694, -9411920.922715895 4396276.359771872, -9411911.349239687 4396312.732491244, -9411927.379469002 4396337.026899102, -9411942.073975742 4396382.423106615, -9411950.200409887 4396419.628882517, -9411867.600568483 4396442.259805667, -9411868.713986032 4396494.876023268, -9411838.546070065 4396503.622997057, -9411809.602891143 4396532.63903933, -9411779.880475784 4396630.237581693, -9411883.074756945 4396646.339414594, -9411868.937181611 4396678.409874379, -9411854.576967295 4396712.840445859, -9411845.671408037 4396744.216801492, -9411846.450755788 4396789.198656489, -9411823.630148858 4396820.297846232, -9411772.645376798 4396864.03176008, -9411704.962569797 4396909.709823065, -9411637.613721268 4396962.885354505, -9411599.319482476 4396965.801741107, -9411563.808230951 4396976.49294408, -9411541.210151685 4396984.962501418, -9411473.41569124 4396918.184464305, -9411248.770509789 4396880.149217501, -9411263.242488867 4396979.277023619, -9411279.607010614 4397113.531523671, -9411473.972733971 4397068.127069589, -9411489.001199184 4397121.162469812, -9411466.069272762 4397163.369560136, -9411429.222298672 4397205.160855674, -9411369.331967345 4397270.416643027, -9411376.345206585 4397284.994561297, -9411398.832077686 4397308.874383477, -9411399.277466966 4397346.36120953, -9411370.55692702 4397425.362364688, -9411330.593118506 4397512.972646232, -9412048.505205058 4399249.044003786, -9412050.508955892 4399243.07264523, -9412416.86807926 4400159.612188639, -9412402.508198908 4400286.407929952, -9412164.728430741 4400685.141632192, -9411843.568026254 4400606.958247266, -9411822.416989043 4400573.210216612, -9411694.398016164 4400542.937131238, -9411694.175377183 4400534.048657702, -9411687.607638542 4400577.102270341, -9411673.024673928 4400602.795915863, -9411635.732421875 4400648.211525216, -9411605.008019775 4400713.348794759, -9411553.244122598 4400783.347873186, -9411523.633026727 4400859.735636292, -9411464.96732112 4400955.013368031, -9411434.354349837 4401028.902362159, -9411458.288485633 4401061.679471244, -9411479.550953651 4401135.42906413, -9411488.345527383 4401218.901828442, -9411487.900360737 4401263.763660482, -9411503.262895746 4401355.570869378, -9411503.37443788 4401436.684434554, -9411488.235209769 4401549.744688186, -9411503.15235549 4401624.053520001, -9411548.460056165 4401699.334318757, -9411907.248340964 4402224.230113392, -9411951.665597027 4402336.88061017, -9412040.499886515 4402449.947907615, -9412146.032878853 4402736.097158092, -9412265.146181157 4402807.772290487, -9413296.312873272 4403680.007510092, -9413624.375754101 4403867.824739133, -9413579.29091505 4403914.921650354, -9413623.819379285 4403965.07294111, -9413772.766305121 4403897.967921994, -9413810.726585435 4403867.54244198, -9413959.896818168 4403995.211814344, -9414115.411705282 4403946.305860391, -9414258.236281764 4403970.753391163, -9414340.168651503 4404046.744428019, -9414422.100353321 4403926.570772599, -9414489.449424487 4403955.743717046, -9414577.392935408 4403993.807397086, -9414706.3023529 4403986.580117927, -9414817.177790251 4403971.017491602, -9414892.096698107 4404001.162772304, -9414966.904509118 4404083.822873586, -9415019.671060948 4404211.219337481, -9415049.060074428 4404323.474452011, -9415055.739355197 4404330.420900555, -9415049.17139392 4404353.483881302, -9414878.628264237 4404596.762174676, -9414864.045299623 4404653.726480677, -9414744.820789149 4404768.07504145, -9414565.483085729 4404783.084747912, -9414447.149242504 4404858.948333704, -9414387.481327521 4404994.13861423, -9414349.855005672 4405135.860617359, -9414327.590996195 4405316.905491403, -9414321.579855012 4405542.277352422, -9414024.130947348 4405910.365188065, -9413688.944287026 4406234.000085298, -9413353.423556913 4406416.460847925, -9413034.37877935 4407527.926569722, -9413020.575051177 4407692.334583315, -9413050.297689175 4407759.737699147, -9413161.284557326 4407744.16956195, -9413228.745059306 4407887.176306968, -9413207.594133416 4408038.386881698, -9412947.660116784 4408286.060021807, -9412827.545050386 4408345.409285086, -9412619.486473067 4408376.825030664, -9412680.824403049 4408878.989192708, -9412277.954379128 4409113.3417655, -9411844.025772 4409135.313430554, -9411845.584244873 4409143.097122968, -9411822.429568145 4409166.587924164, -9411799.72016939 4409196.333561709, -9411799.497530408 4409218.850955473, -9411860.389959786 4409300.996667366, -9411845.806995172 4409481.69505542, -9411778.235285025 4409722.446923328, -9410571.740060953 4409993.257074474, -9410326.388897618 4410873.904726579, -9409064.566884751 4410520.696506511, -9409600.131745446 4409251.151345574, -9408295.006339338 4408891.326606898, -9408077.374397127 4408177.90996223, -9407375.385561857 4407659.117374885, -9407373.938631117 4407217.878038594, -9408827.78832408 4406831.929646163, -9409120.339285471 4407545.393327577, -9410325.943508338 4406619.973512066, -9411337.626617894 4405177.756108313, -9411224.635998907 4404838.325129098, -9410068.792590301 4404320.53979803, -9410048.643539825 4404319.289968836, -9409490.369280372 4404066.451952617, -9409263.492588405 4402162.066013088, -9409233.658408279 4402094.838021629, -9409385.499529552 4401953.016147025, -9409259.817820698 4401738.281531036, -9409920.281591589 4400995.467439672, -9410682.049216049 4401046.42069672, -9410720.566093823 4401032.253193506, -9410725.798332533 4401071.697415877, -9410823.426416511 4401009.611838538, -9411377.246337861 4400864.739165459, -9411384.704743747 4400804.32364515, -9411430.457277102 4400721.130505973, -9411469.530529685 4400639.743781609, -9411499.252945047 4400573.357015793, -9411506.711239612 4400481.833747236, -9411484.669312516 4400351.842415385, -9411418.433102302 4400210.326749033, -9411389.823547892 4400164.359160375, -9411344.40463905 4400142.695399025, -9411285.961127145 4400082.007881704, -9411234.419534996 4400037.152269524, -9411167.515741792 4400014.23958065, -9411076.121326651 4399984.661485353, -9411017.45528709 4399967.581378454, -9411010.330839679 4399974.247517792, -9410986.508134691 4399971.470572592, -9410578.183233086 4399737.896183557, -9410464.190849995 4399736.787985245, -9410433.800072413 4399644.439641309, -9410418.54907953 4399613.888673399, -9410418.103690252 4399576.39388041, -9410433.911169264 4399560.840188125, -9410439.477143804 4399546.536482681, -9410410.867700713 4399531.817021735, -9410388.492260424 4399559.174863157, -9410186.556032458 4399336.435963661, -9410171.193831405 4399358.377210554, -9410119.763781382 4399425.867914532, -9409802.387460351 4398998.450339057, -9409758.415593568 4398923.188598581, -9409698.636470415 4398945.963276521, -9409653.217227617 4398810.714534994, -9409690.286952009 4398787.662981968, -9409720.677506957 4398797.660045289, -9409773.109432399 4398742.670619713, -9409886.099828744 4398720.033984696, -9409869.735529639 4398668.101502185, -9409914.709049201 4398652.270723965, -9409937.418225322 4398591.312025855, -9409907.361294892 4398434.128249314, -9409855.04057762 4398426.631470087, -9409756.856007505 4398524.665430843, -9409712.105015608 4398486.897864874, -9409682.382377611 4398502.033840553, -9409600.116494672 4398511.061421284, -9409586.089793555 4398419.417543384, -9409479.778566657 4398408.034092777, -9409390.833291637 4398389.846368444, -9409389.163944554 4398547.030186972, -9409300.441531153 4398629.929769606, -9409054.422450874 4398435.815337784, -9409016.907337198 4398442.481353264, -9408992.639465567 4398433.456329948, -9408955.235560061 4398387.77424397, -9408917.831654556 4398300.852990567, -9408955.902920414 4398186.715793795, -9409270.161516462 4398330.42003098, -9409403.523268308 4398152.964032232, -9409441.928715272 4398118.805821961, -9409463.302280145 4398088.952502705, -9409493.358765295 4398071.317807495, -9409487.124651171 4398029.246531305, -9409517.069816831 4397991.617762945, -9409591.320696427 4397985.645441848, -9409628.167781845 4397974.953227876, -9409643.30734391 4397944.406206707, -9409725.35058786 4397915.384937522, -9409793.033617498 4397952.316832936, -9409845.910932221 4397944.817754063, -9409875.744778391 4397908.438916844, -9409912.369224826 4397899.135260602, -9409943.20494641 4397854.148033065, -9409897.340648288 4397794.861581581, -9409897.451745143 4397711.276618358, -9409919.827074111 4397674.065645356, -9409896.672397386 4397666.290876963, -9409867.506356839 4397666.569261224, -9409851.921628129 4397710.861192332, -9409800.04618882 4397740.852994109, -9409761.306672066 4397757.515358611, -9409695.404754277 4397727.109888337, -9409664.568921369 4397699.758132276, -9409590.429583905 4397786.954959769, -9409523.414471213 4397765.157734091, -9409477.995562373 4397712.397657817, -9409439.923851242 4397712.815027744, -9409433.244904434 4397798.205288079, -9409395.061873814 4397809.869253108, -9409306.339571733 4397892.763109126, -9409276.839461397 4397823.201478161, -9409245.892086355 4397765.719922783, -9409224.184674338 4397788.074618709, -9409194.016869688 4397826.952293254, -9409187.226380749 4397841.114846407, -9409142.364292003 4397886.935522842, -9409104.626539346 4397863.74892276, -9409075.460498799 4397864.027312173, -9408955.011585249 4397864.585618343, -9408843.91373156 4397923.737357731, -9408850.369037509 4397428.756216196, -9408931.633156344 4397458.466347178, -9408953.563207351 4397423.755408865, -9409043.510135148 4397352.111305071, -9409103.066396683 4397259.364856532, -9409171.306023773 4397291.15739549, -9409229.192938227 4397366.823871973, -9409282.626961721 4397395.562634252, -9409328.268398225 4397374.874160876, -9409425.117691049 4397503.855661923, -9409559.258790648 4397402.497908002, -9409574.843964636 4397501.769269818, -9409619.928692369 4397485.801379081, -9409634.956934946 4397456.505338536, -9409672.026659336 4397433.456710653, -9409717.77941533 4397411.379885564, -9409747.50183069 4397365.006303013, -9409782.567804251 4397358.063417374, -9409820.750723554 4397336.403270408, -9409835.889617702 4397058.587289762, -9409991.738574605 4397089.68296048, -9410119.200282119 4396928.768993988, -9410239.42655669 4396919.464109203, -9410261.022760542 4396939.594691534, -9410291.97002426 4396965.6949763, -9410313.900186583 4396973.330398325, -9410336.498265859 4396964.722014333, -9410344.179310724 4396943.202334247, -9410329.26227632 4396920.156064366, -9410291.858370814 4396874.480455702, -9410142.02077773 4396846.717297121, -9410013.556526883 4396767.724312287, -9410111.51845802 4396703.164927736, -9410132.891911574 4396642.078530246, -9410268.146206077 4396552.112917867, -9410417.427090384 4396543.779480144, -9410462.734568415 4396535.44854787, -9410543.998241972 4396400.366126236, -9410567.152696062 4396294.579156928, -9410529.080762289 4396212.533862089, -9410401.395970516 4396189.769597887, -9410326.365965806 4396243.358022337, -9410341.393985745 4396152.704697914, -9410385.365073286 4395918.369976724, -9410369.891330104 4395859.093582599, -9410340.613858752 4395839.381779272, -9410371.338260852 4395785.51871339, -9410408.630735541 4395822.443933893, -9410460.060896888 4395836.047154465, -9410310.111761678 4395717.082204591, -9410354.751100123 4395662.525244515, -9410196.785403106 4395032.034420016, -9410196.340013821 4394994.555859253, -9410172.851378622 4394979.287295835, -9410149.80813271 4395032.72972312, -9410151.144077921 4395062.851562846, -9410129.214026915 4395107.549126531, -9410106.950017437 4395144.889965774, -9410077.450129738 4395167.517076241, -9410033.033207631 4395168.489874403, -9409979.821823118 4395138.368985951, -9409927.055716567 4395093.395335861, -9409860.263242852 4395039.260771617, -9409807.274608638 4395006.780609019, -9409755.287738519 4394986.79317541, -9409694.284100963 4394988.182804095, -9409658.438890975 4395011.364963188, -9408327.044088785 4394818.453442969, -9408153.605539147 4394427.027806995, -9408598.66242181 4393302.221758809, -9408569.496381264 4393282.375887156, -9408516.062357763 4393263.640909641, -9408471.311588509 4393266.972926949, -9408419.881427161 4393253.372978982, -9408373.683281885 4393216.59556768, -9408136.231238302 4391125.569089912, -9407804.381713673 4389945.493146818, -9407654.209271563 4389510.820212748, -9407572.165248379 4389170.363397704, -9407443.700774888 4388939.099335884, -9407697.734079266 4388869.727793846, -9407676.360403076 4388817.28854915, -9407389.374525674 4388177.91043434, -9407456.612054711 4388155.990759798, -9407486.557331691 4388149.608881885, -9407516.27974705 4388103.275494342, -9407569.156950457 4388074.697947209, -9407598.434087856 4388043.346631439, -9407616.57938749 4388070.396506395, -9407617.469832102 4387980.645108073, -9407597.097920008 4387889.646556281, -9407575.724132495 4387806.139489078, -9407534.423933497 4387678.938375173, -9407505.369101116 4387596.82023441, -9407529.63686143 4387543.55370468, -9407537.763184262 4387498.471914886, -9407545.889395772 4387453.251602882, -9407547.113798847 4387370.99579092, -9407548.67193776 4387266.408434005, -9407559.358497556 4387169.17323922, -9407582.401632151 4387094.686684696, -9407635.167516066 4387057.373277512, -9407675.020005088 4386990.932049433, -9407675.020005088 4386969.84870932, -9407682.033244327 4386974.425871182, -9407690.604733799 4386915.475937995, -9407720.661107637 4386876.776662583, -9407743.370506395 4386856.94147265, -9407560.470467955 4386656.79776427, -9407560.915745916 4386643.066415089, -9407502.360914521 4386573.717400043, -9407472.749596013 4386526.560027145, -9407414.417514917 4386465.949833389, -9407348.960986415 4386443.066102939, -9407259.12537811 4386422.402297861, -9407207.361369608 4386411.168937409, -9407177.861259274 4386372.750270884, -9407156.710333383 4386319.074994867, -9407119.306539195 4386293.416939449, -9407054.072649674 4386258.050857672, -9407009.878366554 4386226.567975445, -9406987.61413444 4386181.492432002, -9406966.908375192 4386112.977747984, -9406960.117663616 4386024.907244594, -9406952.993104886 4386000.358749288, -9406925.051467419 4385939.612152042, -9406888.649659971 4385896.618477308, -9406844.343946036 4385855.150860194, -9406829.760870105 4385809.660670714, -9406839.111596007 4385743.505269108, -9406855.475561157 4385683.036400167, -9406877.962209616 4385623.399865936, -9406916.924254034 4385564.4565486, -9406910.467612246 4385535.055048922, -9406867.720371183 4385481.245706947, -9406828.758104131 4385447.962050849, -9406840.11246955 4385284.591244595, -9406893.212200619 4385243.678238997, -9406938.964845296 4385211.641391136, -9406984.049461704 4385163.517582053, -9407022.90018663 4385115.671353515, -9407052.956671782 4385086.963663667, -9407069.32063693 4385026.498368274, -9407071.435595931 4384958.129209078, -9407078.671251515 4384899.190390422, -9407102.493733868 4384839.696905523, -9407141.901056247 4384786.998403781, -9407171.512152115 4384741.927679687, -9407186.540283374 4384691.44917679, -9407203.460845975 4384626.132607224, -9407203.126776179 4384577.457703277, -9407182.755086727 4384547.504634381, -9407139.785206687 4384486.211871093, -9407094.589048143 4384442.253603318, -9407000.077687263 4384326.187482425, -9406927.719127692 4384235.221273606, -9406889.31356941 4384208.1815149, -9406817.066440651 4384127.200486097, -9406773.985352434 4384096.971895156, -9406736.358919268 4384073.815202956, -9406707.638268009 4384050.381085839, -9406706.636281269 4384027.917001951, -9406738.028600313 4383999.212092872, -9406788.45677492 4384000.320185108, -9406826.639694223 4384008.639269901, -9406863.486779632 4384037.897212339, -9406893.543376101 4384061.469970428, -9406937.96029821 4384070.482306316, -9406961.560141573 4384063.409663199, -9406974.91859179 4384047.601205073, -9406983.378873089 4384009.883396082, -9406998.741074143 4383987.973650726, -9407042.824037772 4384020.698092438, -9407087.908876823 4384064.793157472, -9407124.867393041 4384104.174077203, -9407160.378644565 4384134.541635114, -9407212.142764376 4384165.740881285, -9407249.101169284 4384173.921424948, -9407293.963258028 4384179.328438676, -9407323.574465217 4384175.30632021, -9407346.617822453 4384153.1187583, -9407370.217665825 4384146.046060543, -9407391.368591707 4384169.757865383, -9407413.298865357 4384207.198065666, -9407427.325232511 4384226.472827475, -9407606.328754824 4384294.00098292, -9407642.953089932 4384294.554697612, -9407664.660501959 4384272.22821728, -9407673.120783256 4384234.648425443, -9407688.705623284 4384210.380825005, -9407703.956504846 4384189.718698827, -9407726.777111778 4384188.747454244, -9407755.831832832 4384209.685809683, -9407785.888317989 4384202.058255226, -9407816.390081102 4384170.71815333, -9407839.878604982 4384143.677170998, -9407854.795528065 4384125.511218257, -9407876.502940092 4384093.200936747, -9407884.629262917 4384089.179405333, -9407921.921626288 4384104.848008, -9407973.908385091 4384113.582765085, -9407996.951631 4384101.379344888, -9408011.757123277 4384063.245341203, -9407999.400325842 4383958.27460647, -9408000.958576074 4383873.549687183, -9408011.533816379 4383767.609607619, -9408012.758108139 4383685.520803814, -9407999.844713246 4383595.390630194, -9407985.706803959 4383505.122554841, -9408017.210219854 4383392.945882559, -9408049.158913715 4383318.208168775, -9408072.202270944 4383296.022245903, -9408139.996286117 4383259.276305724, -9408222.03930743 4383209.219107039, -9408289.388155954 4383196.183805186, -9408358.295366036 4383150.841499865, -9408396.923451975 4383114.235407686, -9408427.202464797 4383084.285187849, -9408471.396636598 4383064.594992522, -9408523.271964584 4383064.593744616, -9408561.120925413 4383065.28618975, -9408584.052851833 4383043.10079139, -9408585.277366236 4383013.290118703, -9410994.918990139 4382984.668490263, -9413187.931549121 4383092.904166013, -9413171.790111633 4383110.929847931, -9415684.403711669 4383233.024647751, -9415939.763276465 4380600.660685795, -9415639.309299149 4380513.890360352, -9415340.525225507 4380474.667789691, -9415250.578409031 4380486.314110995, -9415078.810987582 4380443.484433435, -9414936.988731794 4380414.100192108, -9414876.207399271 4380310.968554717, -9414681.730579058 4380277.84334153, -9414471.112432685 4380262.738976986, -9414353.0015624 4380277.296904252, -9413502.400539009 4379674.897403181, -9413524.887298787 4379666.302939451, -9413570.083346009 4379659.232790908, -9413608.043515006 4379658.815986754, -9413652.34889498 4379606.836048501, -9413694.984371271 4379558.32147315, -9413740.959543612 4379492.758318807, -9413770.125138883 4379410.147175967, -9413799.068206485 4379338.902450498, -9413813.873587443 4379259.619457103, -9413805.079125032 4379217.483557199, -9413776.358362447 4379184.080497852, -9413745.967918826 4379184.219934625, -9413678.841820596 4379216.10068948, -9413641.326929562 4379232.872806425, -9413634.759079602 4379245.763289609, -9413619.174350893 4379289.978814119, -9413604.81413658 4379314.512472003, -9413575.091609899 4379329.621320094, -9413537.131440897 4379330.037972816, -9413507.965400351 4379330.316018521, -9413485.589960067 4379306.476189662, -9413485.478529256 4379276.537317486, -9413811.646641029 4379102.303222869, -9414713.4512906 4378636.444803913, -9415309.34819836 4378375.870195628, -9415600.553307105 4375864.831567558, -9415571.49869737 4375865.10938474, -9417255.437317519 4374912.914940858, -9418260.327489112 4375388.540884149, -9418076.651887774 4376115.432107061, -9419574.579757629 4376561.029541936, -9420393.447824337 4375569.305229774, -9420401.46293899 4375576.371569979, -9420537.05030142 4375396.937243893, -9420522.578656297 4375381.419384038, -9420493.412727069 4375381.835744618, -9420478.384484494 4375381.281936552, -9420454.784529805 4375367.288351061, -9420432.409089513 4375353.433477961, -9420417.046777148 4375334.174686828, -9420411.035413323 4375311.036250479, -9420403.354034502 4375260.186955661, -9420396.674753735 4375253.259516853, -9420388.214361113 4375228.597161669, -9420375.412285717 4375178.441163218, -9420358.936778441 4375147.821480609, -9420338.008491531 4375132.858331008, -9420307.840575565 4375110.690750659, -9420284.463259865 4375095.450687019, -9420254.740733178 4375079.379332866, -9420399.233098276 4374766.115568615, -9420529.030288702 4374219.972270091, -9420397.670283942 4373724.01241371, -9420386.646982685 4373108.246893065, -9420316.178962026 4372566.764076135, -9420404.901041465 4372523.821027286, -9420321.852805154 4371744.26952251, -9420179.363189021 4371824.469666922, -9420155.651580881 4371718.372542957, -9419913.077727525 4370030.790862212, -9419948.588979049 4370040.068510619, -9419933.113788711 4369649.683004828, -9419924.210121879 4369484.198885251, -9420388.864244299 4369196.985142177, -9420431.277081616 4369211.93945332, -9421861.308856325 4368309.356898053, -9421862.199523574 4368301.879676815, -9421870.453752495 4367043.037425063, -9421878.361332521 4366750.223897208, -9421879.141793475 4366660.650870224, -9421893.727429751 4366458.248866695, -9421991.579377232 4366360.231256464, -9421991.023225054 4366322.852687122, -9421962.748408355 4366285.890393909, -9421916.661916526 4366270.524846959, -9421835.064841095 4366203.6614671, -9421909.20406724 4366217.364975461, -9421923.231770232 4366123.227720488, -9421894.956619574 4366106.062321634, -9421879.706071973 4366075.74527228, -9421841.523931906 4366016.357621906, -9421827.164051553 4365978.565362463, -9421820.819174536 4365947.971666787, -9421820.26313368 4365910.594533658, -9421796.775055081 4365865.465971936, -9421805.124573486 4365827.812122747, -9421782.638815586 4365753.059515995, -9421783.864443177 4365670.970057635, -9421790.766919525 4365624.595942443, -9421782.418180354 4365599.955726212, -9421767.835994974 4365543.338593642, -9421910.883433079 4365499.314988272, -9421999.828708099 4365483.670527699, -9422082.762619292 4365477.300900035, -9422194.973333929 4365499.308205286, -9422291.821624877 4365544.433565883, -9422388.892443486 4365597.034170371, -9422479.173107117 4365612.674643338, -9422568.341466397 4365564.775983183, -9422629.345660551 4365530.859517191, -9422696.02703741 4365501.372724832, -9422726.417926311 4365470.087419625, -9422763.376999134 4365425.928179135, -9422785.530690992 4365357.683305957, -9422800.114323523 4365310.894990293, -9422830.505657705 4365247.218735197, -9422830.617422475 4365216.073287715, -9422815.478305688 4365184.512934826, -9422779.410901984 4365149.077362437, -9422764.383327326 4365096.200031234, -9422778.410473721 4365043.183984498, -9422794.441482276 4364984.077507694, -9422816.817701798 4364924.417534543, -9422824.165678749 4364864.34304806, -9422808.581395313 4364826.416426132, -9422757.597513806 4364758.177164906, -9422712.290703697 4364704.33366407, -9422689.6936263 4364630.696219754, -9422673.99802338 4364594.016172885, -9422652.625015104 4364551.661330025, -9422608.319969084 4364511.521994771, -9422577.707220437 4364483.009123955, -9422562.345019389 4364473.735726826, -9422547.651403202 4364428.474516043, -9422518.039862053 4364443.562395587, -9422165.818536654 4364660.74508616, -9421828.735882763 4364960.707255194, -9421836.528803715 4364927.901311394, -9421850.890465179 4364831.28381402, -9421866.141569378 4364809.551672263, -9421873.934379013 4364786.712360174, -9421866.699057391 4364742.41862058, -9421813.599994238 4364681.239195201, -9421768.96087843 4364643.590746934, -9421695.044959182 4364576.460532817, -9421671.778629011 4364601.099091146, -9421611.999839816 4364574.109392528, -9421246.202211957 4364426.152336791, -9421059.517199509 4364455.0852839, -9421021.332610413 4364582.4283565, -9420969.237649066 4364336.189973903, -9420753.05286024 4364349.067537626, -9420655.87061082 4364296.472911369, -9420557.464403598 4364202.770508884, -9420497.796711257 4364184.501583182, -9420439.020242751 4364117.789056708, -9420416.867441446 4364123.741261773, -9420403.175366718 4364091.076840072, -9420388.479635464 4364211.355904294, -9420335.380015714 4364181.321998808, -9420001.192781784 4364415.523912704, -9419962.342168177 4364392.271166052, -9419849.686398212 4364332.894631115, -9419806.16081127 4364265.488705174, -9419693.393721823 4364206.112733238, -9419526.748332784 4364071.720064478, -9419497.693611728 4364072.135986129, -9419497.24777717 4364116.842467616, -9419505.151127053 4364155.043542334, -9419505.707279231 4364192.552834285, -9419497.35831742 4364187.84712372, -9419475.094307942 4364174.00654996, -9419468.081180027 4364169.439120239, -9419460.845301799 4364177.190284502, -9419453.052714808 4364188.816972187, -9419437.801833251 4364179.543829251, -9419430.677608477 4364155.045203262, -9419415.426838238 4364145.772089502, -9419408.191182654 4364132.346525114, -9419407.41150094 4364169.717326605, -9419408.52436189 4364192.139953016, -9419392.827645775 4364237.677683198, -9419393.829298552 4364260.100313174, -9419386.37044739 4364290.412787022, -9419370.896592891 4364313.389732742, -9419357.203850247 4364342.872015312, -9419340.728120334 4364364.603212073, -9419326.812516065 4364416.508730494, -9419312.562842006 4364470.767416475, -9419326.143485926 4364514.783203749, -9419349.743551932 4364507.585042354, -9419357.424596798 4364507.169519067, -9419378.797827708 4364538.450909827, -9419399.837211473 4364552.153537522, -9419432.008766949 4364568.347536889, -9419460.951611914 4364610.425335137, -9419499.134085936 4364649.734813184, -9419514.607272519 4364687.660810711, -9419484.772869753 4364725.172794721, -9419051.622608503 4364891.562839273, -9418205.473140227 4365067.516315982, -9418130.667221652 4364925.497632595, -9418197.795880228 4364706.932047537, -9418967.584296634 4364111.180097698, -9419099.72654346 4363701.352449854, -9419705.539902778 4363155.898563105, -9420390.392438268 4362530.204373905, -9420397.962274967 4362529.927455541, -9420541.0110489 4362402.467851037, -9420513.403369902 4362411.74056604, -9421903.037858002 4361078.144151607, -9421785.148958784 4361092.814284348, -9421636.090602139 4361072.753899888, -9421479.684825139 4361071.650527935, -9421442.614321515 4361117.037205305, -9421397.306509521 4361136.548612271, -9421314.928305224 4361201.44708883, -9421233.9983675 4361171.837273702, -9421144.273744725 4361172.392839242, -9421034.067671483 4361051.18198876, -9420982.192566134 4361021.433525565, -9420402.099241205 4361048.429237843, -9420372.37649188 4361053.688024945, -9418620.412089383 4360763.707501503, -9418330.086961208 4360784.054282834, -9417156.431098243 4360771.489968886, -9416463.903974416 4360767.63173509, -9416460.453070205 4360764.726161064, -9415932.680907818 4360755.467736422, -9415924.999862954 4360735.819900271, -9415924.888877425 4360705.932698902, -9415939.472064674 4360690.297021248, -9415945.149581347 4360674.799870811, -9415944.370678868 4360629.831127536, -9415928.006713724 4360607.969677516, -9415926.893630132 4360596.762239053, -9415941.810775859 4360578.497649726, -9415962.739508042 4360531.314928319, -9415982.777572984 4360501.289517129, -9415974.985208629 4360492.987966437, -9415811.234348992 4360253.210437982, -9415917.324495386 4360107.792029481, -9416213.549779208 4360080.805322791, -9416228.021646967 4360065.170555226, -9416246.835531468 4359994.054386113, -9416238.152833827 4359951.855628038, -9416252.290520478 4359959.741689861, -9416380.420478893 4360006.088296535, -9416418.714829003 4360013.143699385, -9416396.118530849 4359826.363315788, -9416401.907812284 4359758.569506675, -9416445.100331308 4359756.354870008, -9416527.366548201 4359754.831036429, -9416616.200726366 4359750.540119271, -9416622.991437944 4359736.427864605, -9416635.793847306 4359683.161433573, -9416642.918739991 4359645.390909498, -9416640.358836982 4359594.200627172, -9416662.400652759 4359569.435204264, -9416676.983617373 4359583.546686125, -9416706.928783031 4359597.104501023, -9416744.777743863 4359617.718167897, -9417148.208261415 4359281.24139702, -9416990.021706523 4359222.724033786, -9417031.879059577 4359159.22194672, -9417043.56860799 4359073.585631437, -9417071.287829114 4359043.287466521, -9417108.246679293 4359009.11546022, -9417167.247122606 4358981.168637625, -9417209.21534987 4358957.649170238, -9417232.147832889 4358925.552866049, -9417250.071384102 4358840.609987433, -9417245.84213401 4358740.589136289, -9417258.199376728 4358681.102461745, -9417281.910984863 4358662.702651102, -9417310.743178254 4358653.70999098, -9417360.170145364 4358621.060682998, -9417403.029262515 4358560.190451777, -9417409.820308046 4358514.953745747, -9417334.902958665 4358353.101138299, -9417262.1012362 4358122.914283786, -9416619.443908416 4358208.280739298, -9415251.744814653 4359173.927503972, -9414581.044437347 4358127.540285703, -9413803.364693554 4356936.437603217, -9413854.240149874 4356717.343256034, -9413808.821241032 4356697.012059569, -9413705.515083784 4356715.825247739, -9413640.837235117 4356749.160621112, -9413558.45969874 4356721.914433317, -9413445.023579149 4356699.786517614, -9413408.732979868 4356697.850939208, -9413355.298956374 4356670.327560903, -9413266.353347393 4356664.797056562, -9413244.423185067 4356658.435009106, -9413199.115373081 4356667.979810632, -9412452.380777935 4355514.240176524, -9412954.44147753 4355258.239675566, -9412994.739244513 4355334.855153411, -9414518.733575014 4354611.412852517, -9416087.476782339 4354298.160479799, -9416161.950857515 4354287.096106859, -9416182.211450117 4354275.894706159, -9416210.598922145 4354219.474549877, -9416230.971056875 4354187.115966824, -9416259.135778604 4354142.035392999, -9416289.081389545 4354124.334622449, -9416408.528872961 4354158.487642698, -9416447.825098487 4354188.079104912, -9416505.154190965 4354327.882175483, -9416649.648114532 4354455.792662235, -9416740.48381714 4354713.973268664, -9416928.834725773 4355205.321540737, -9416656.317821823 4355442.783620478, -9416950.534790708 4355966.526285591, -9417241.970998721 4356244.931717761, -9417693.152457129 4356579.495836521, -9418393.250753483 4356642.827628177, -9418400.041242417 4356649.881375927, -9418575.261571832 4356578.646039374, -9418664.096306594 4356543.097635451, -9418810.150595464 4356463.426533855, -9418859.577562572 4356430.783880536, -9418909.004752314 4356376.97990114, -9418965.556723433 4356306.578722009, -9419009.195188336 4356259.414343422, -9419066.971339894 4356220.271659648, -9419089.013378309 4356174.352847818, -9419123.523533646 4356128.710570654, -9419151.020338431 4356089.70736147, -9419407.400925593 4355406.349438881, -9419452.708848899 4355396.805896013, -9419503.916816538 4355380.48562342, -9419562.805606404 4355393.622550276, -9419636.94516651 4355427.365675862, -9419676.909420304 4355440.779672291, -9419744.703880757 4355453.778235674, -9419781.885147274 4355459.447660508, -9419804.371907057 4355472.032317282, -9419819.734108103 4355480.05339099, -9419886.749332115 4355499.275336669, -9419895.988515893 4355537.584073819, -9419933.280656626 4355573.126386093, -9420032.466879524 4355659.562127776, -9420085.12144395 4355693.168062906, -9420124.640419774 4355700.220634193, -9420198.446355371 4355705.336150807, -9420227.389868252 4355706.303574001, -9420258.670979124 4355718.611776973, -9420272.697457602 4355717.781686811, -9420388.584164461 4355615.85091973, -9420388.250317309 4355608.382671448, -9421000.857171193 4355136.359524677, -9421021.348083824 4354513.222169143, -9420760.972574092 4354104.322643835, -9420753.736918515 4354081.091653987, -9420707.98382856 4354083.166840131, -9420664.902406389 4354085.51858918, -9420635.29075392 4354100.730091146, -9420606.013171243 4354102.251878618, -9420598.44333455 4354102.528579851, -9420636.189324846 4353451.796209043, -9420664.911979865 4353309.651981743, -9421270.168407772 4353176.207891517, -9421584.763522645 4353120.202089859, -9422442.831078237 4352983.021608232, -9425441.266758468 4353487.917214694, -9425818.218821943 4352368.783789039, -9426011.037093062 4351777.462906067, -9426279.000361918 4351014.752257619, -9427577.359880699 4350093.937626735, -9428428.163060287 4351708.008025843, -9428657.598430742 4351614.546267865, -9428717.490097901 4351578.047359923, -9428865.103972834 4351494.818733291, -9429236.254732363 4351241.405907273, -9429797.983903538 4351215.542016096, -9429902.069074582 4351241.391391583, -9430933.787577409 4351760.488390664, -9430945.024500769 4352104.876660184, -9431314.16204731 4352337.278162827, -9431179.253622459 4351660.113256187, -9431480.052801516 4351236.794756684, -9431573.561285106 4351318.633676576, -9431672.525202977 4351366.187945789, -9432035.767825885 4351354.152645067, -9432138.630931556 4351254.475706309, -9432215.686283084 4350220.73227747, -9432215.688954754 4350085.266742353, -9432071.976939293 4349876.960272803, -9431831.416187605 4349603.832962247, -9431748.594041176 4349538.179003749, -9431658.647336015 4349479.160101986, -9431627.811948387 4349441.97926544, -9431605.437732615 4349365.958501248, -9431620.355880214 4349315.646185588, -9431685.369691098 4349216.403617298, -9431757.507949404 4349130.430704212, -9431788.901047682 4349110.388484803, -9431906.012936858 4349038.513513233, -9432032.141593467 4348986.127143038, -9432107.618323298 4348956.54750099, -9432143.909367852 4348948.253754973, -9432188.66035975 4348963.456472998, -9433119.768306797 4348352.129202385, -9432985.873779871 4347112.48616445, -9433049.559326593 4346658.950994071, -9433064.031862274 4346622.055302606, -9433076.946147719 4346577.697756538, -9433076.946815636 4346546.606362631, -9433061.028017135 4346532.373656499, -9433038.652465524 4346529.748709664, -9433002.472406507 4346547.851542218, -9432957.831843538 4346572.449223247, -9432913.192059819 4346556.006359697, -9432875.23166818 4346536.661375047, -9432845.064086176 4346504.465181561, -9432837.940417999 4346458.865023323, -9432853.081204578 4346407.322652077, -9432860.095334377 4346369.598868466, -9432851.079234855 4346318.886427901, -9432887.259516517 4346290.835074423, -9432939.915750735 4346241.089024477, -9432961.178886671 4346211.241670661, -9432967.524876881 4346179.736657861, -9432953.944566926 4346135.796024302, -9432915.20505017 4346111.477494868, -9432892.496208005 4346070.300981389, -9433288.354773797 4346183.737098477, -9433516.345885184 4346007.969771522, -9433629.225963915 4346022.475928861, -9433799.661558973 4345946.889697853, -9434320.981643673 4345981.837264834, -9434320.424712259 4345996.760406146, -9434342.800820462 4345989.436319247, -9434905.209374486 4345798.184418308, -9435383.687373916 4345278.923536905, -9435793.244359644 4345310.827846124, -9437303.673853595 4345430.436030521, -9437392.621355005 4345413.438501054, -9437459.525927443 4345443.695666874, -9437602.131538486 4345410.668748721, -9438449.857068108 4345413.95912504, -9438479.246192915 4345421.142992488, -9438524.443353333 4345422.799650231, -9438568.193694323 4345404.283647415, -9438634.876963619 4345373.469908102, -9438694.880506868 4345356.887804921, -9438747.425198952 4345349.42515526, -9438806.537295716 4345371.253948596, -9438851.511483187 4345385.207675526, -9438895.372030478 4345418.919700168, -9438896.707641728 4345429.005970477, -9438903.943185994 4345452.218286523, -9438876.10952843 4345579.336165799, -9438486.897292836 4346782.474357619, -9437381.679094335 4346896.789121995, -9436021.196509209 4347037.092379852, -9434325.522143062 4347083.161106728, -9433604.601313317 4347093.126222398, -9433465.333728526 4347275.542631446, -9433730.935799664 4347842.282361932, -9433888.218885569 4348534.132972236, -9433904.245997939 4348682.708679957, -9434057.081981501 4349098.31479508, -9433811.826552927 4349740.631978056, -9433649.405070651 4349885.634306766, -9433613.781609086 4349908.718976246, -9433485.095943769 4349805.328434724, -9433383.676540568 4350060.63656442, -9433361.746266926 4350054.416790946, -9433324.0098501 4349980.32717448, -9433226.049143482 4349862.006731287, -9433128.530041277 4349928.910724771, -9433018.430612106 4350036.454443718, -9433101.808910707 4350118.422600899, -9433162.478144513 4350169.013473683, -9433215.466110813 4350221.125269838, -9431672.493365604 4352977.425249744, -9430840.581437562 4353322.147702594, -9430759.303960389 4353993.890777715, -9430700.526601331 4353979.511042154, -9430631.062014559 4353980.065682814, -9430565.382401798 4353981.035163225, -9430550.242283134 4354001.639166327, -9430527.977717057 4354018.786336719, -9430430.349299118 4353992.515305884, -9430346.861016858 4353848.292522354, -9430286.413865441 4353826.307693142, -9430233.870397869 4353812.757709887, -9430010.002115149 4353869.733132395, -9428736.709741944 4353770.754681728, -9428706.086083986 4354346.555283668, -9428205.363222033 4354314.899493293, -9428206.919245873 4354458.162331696, -9427173.968102325 4354478.098634912, -9426928.280642807 4354548.630136624, -9426511.93595113 4354725.786227074, -9425782.442407396 4355040.138324611, -9424621.131541995 4355502.488309787, -9423489.545429673 4355886.02409932, -9422831.404896552 4356555.589923223, -9422882.834056022 4356651.301586726, -9422936.044438664 4356732.214354461, -9422973.447564928 4356787.53965209, -9423011.741024487 4356856.835233634, -9423026.768153867 4356950.613956264, -9422989.80830181 4357037.063682024, -9422944.722572206 4357086.444729685, -9422900.63849538 4357147.168153223, -9422908.986677952 4357213.976819723, -9422947.169040656 4357273.177620674, -9422968.76435395 4357344.274811925, -9422968.317851473 4357431.280310408, -9422903.861083319 4357566.563440815, -9422903.971178295 4357648.729289467, -9422918.887210822 4357722.595664822, -9422946.049166575 4357748.185694246, -9422976.995539742 4357815.274341276, -9422984.007888421 4357882.087300311, -9422993.246181646 4357972.693489823, -9423023.747054204 4358053.478291087, -9423031.316445617 4358084.187971075, -9423008.717141837 4358166.081525764, -9422994.578341989 4358241.612166437, -9422996.469882783 4358308.981257534, -9423003.148606952 4358347.023340166, -9423033.984217217 4358373.168064279, -9423215.545416145 4358613.456433147, -9424038.764739109 4358598.912116745, -9424047.779280156 4358764.089867376, -9424013.48820157 4359056.132813304, -9423980.307980185 4359505.072046023, -9424084.170623569 4359491.234601902, -9424166.993660556 4359474.769066904, -9424249.927571749 4359488.325499344, -9424286.552018177 4359497.732389065, -9424339.540986354 4359487.770020918, -9424383.846700288 4359486.800458639, -9424430.044734245 4359500.911140178, -9424496.057971518 4359508.795625768, -9424586.895566562 4359529.407878011, -9424652.90891516 4359526.085924872, -9424712.577052779 4359523.179164852, -9424811.207123498 4359542.269301501, -9424833.24916191 4359506.297559344, -9424913.290658781 4359398.797827888, -9424942.792995507 4359249.242629527, -9424957.153543778 4359234.854200049, -9425009.808553481 4359227.382190883, -9425076.489930341 4359219.079826226, -9425076.156417148 4359190.442106039, -9425809.206173332 4359128.861284485, -9426265.065276742 4359147.804211503, -9426631.424956707 4359009.450669241)), ((-9431672.493365604 4352977.425249744, -9431689.080415009 4352970.511625175, -9431652.343535895 4353013.375007724, -9431672.493365604 4352977.425249744)), ((-9420397.670283942 4373724.01241371, -9420397.781603433 4373731.077536924, -9420391.436169818 4373700.461713405, -9420397.670283942 4373724.01241371)))\n"
     ]
    }
   ],
   "source": [
    "#Prints an example of how the shapefile stores some records as a multipolygon, record with GNIS_ID == 1309762\n",
    "\n",
    "for row in nps.itertuples():\n",
    "    if row.GNIS_ID == '1309762':\n",
    "        print (row.PARKNAME + '\\n')\n",
    "        print (str(row.geometry))  "
   ]
  },
  {
   "cell_type": "code",
   "execution_count": 9,
   "metadata": {
    "collapsed": false,
    "deletable": true,
    "editable": true
   },
   "outputs": [
    {
     "name": "stdout",
     "output_type": "stream",
     "text": [
      "\n",
      "\n",
      "POLYGON ((-8997516.758742582 2969592.943944816, -8997692.648547409 2969585.52878394, -8997684.411127729 2969482.570408323, -9000960.190525031 2969480.854913271, -9000952.181866908 2968196.841785891, -9000960.976440638 2968161.86653969, -9000948.113807436 2953380.430392602, -9000985.629589029 2953382.035605751, -9000991.977137711 2952752.508391018, -9000984.741148172 2952749.05142259, -9000988.530129677 2951568.343968288, -9002938.570756806 2951539.715431677, -9016854.582674881 2951309.691900665, -9022408.571890248 2951193.922138223, -9022446.190976331 2952740.154794599, -9022446.524934802 2952744.722805403, -9022524.880497983 2955802.606349412, -9024286.001039922 2955752.727733933, -9024344.430859528 2958475.789923642, -9026170.563097281 2958446.281907694, -9026187.251447426 2960255.139848807, -9027976.869556369 2960226.24626519, -9028034.068405043 2963865.133442437, -9029833.148002788 2963851.060376142, -9029845.827960704 2965667.627902098, -9030784.831353959 2965657.62553016, -9035118.83019471 2965604.398578004, -9035136.068240495 2968186.793568633, -9035137.96067184 2968189.388892932, -9035147.974193994 2969283.676167713, -9036951.394583959 2969266.633194756, -9036956.061097015 2971108.218130713, -9038760.372042911 2971145.685732911, -9038795.20713984 2972987.753753608, -9040572.912504798 2972982.821160743, -9040552.08663182 2974820.544549991, -9044680.250836032 2974829.969672078, -9044695.501940232 2974839.243083131, -9045847.020586619 2974818.597825629, -9046095.571962679 2981981.662585143, -9056851.314596476 2982110.851031856, -9056899.199899955 2978393.976952259, -9058107.047433201 2978413.892473731, -9059571.265757496 2979431.399993194, -9059625.701879049 2979557.557190375, -9059576.719521986 2979660.338628923, -9059553.001457319 2981075.607348113, -9059419.191978483 2981084.018186871, -9059406.721412525 2981622.727313547, -9059347.942606315 2981753.72737421, -9059268.791776692 2981894.006242656, -9059370.985184316 2982006.082547898, -9059389.462661309 2982450.43605456, -9059390.685283283 2982884.163789203, -9059403.040633565 2983185.034402056, -9059386.229943302 2983420.836108941, -9059052.25855786 2984369.399861123, -9058796.769973779 2985197.015704757, -9057703.3510847 2987584.853342958, -9057466.56673542 2987971.581572496, -9056707.565066351 2989275.023973619, -9056588.217881797 2991414.105401692, -9056618.162156904 2991723.56932089, -9056728.701409385 2992589.113145169, -9056181.876582198 2994702.801632949, -9056016.671333412 2995336.237387768, -9055517.492250156 2997509.022553875, -9055444.793164264 2998744.214731566, -9055443.0102713 2999137.8042471, -9055119.484772915 3004295.204259624, -9055264.089236731 3005039.94962402, -9055125.378917316 3005651.656519156, -9055193.836507972 3006927.938067057, -9055156.087846 3009276.960056183, -9055204.950423293 3011079.229989439, -9055203.153058793 3014750.524304154, -9055197.017462421 3017679.053235074, -9055211.486992471 3018209.197974468, -9055234.858630879 3019598.951404658, -9055267.247370692 3020966.263836351, -9055349.052947523 3024662.77260738, -9054876.465975551 3030087.177642313, -9054876.019473076 3030354.648244589, -9053562.082795311 3030368.666092471, -9044682.907364361 3030501.422872448, -9044677.452597994 3030507.3805416, -9039610.395206824 3030617.214445112, -9003477.265587624 3031255.339669593, -9002909.607317729 3005567.291953983, -9002908.494122824 3005567.168044422, -9002738.860918649 2999110.309010559, -9002723.275744665 2999109.93744697, -9002733.642038282 2996538.795210443, -8998630.966546562 2996504.354047403, -8998546.919106495 2996300.906210232, -8998535.007920979 2996255.462174279, -8998441.506561844 2994309.302397878, -8998427.146681491 2994152.684731765, -8998452.529083861 2993969.574573502, -8998514.206426976 2993016.670445412, -8998534.57934094 2992830.479531728, -8998533.021313347 2992719.434670908, -8998513.095013177 2992625.845493759, -8998312.387307109 2991263.176562046, -8998286.783824228 2991142.364601222, -8998288.78790902 2991073.046881318, -8998310.941600883 2990967.090354107, -8998404.899703892 2990554.164614177, -8998448.762700213 2990168.480454716, -8998504.981937367 2989867.094595161, -8998576.340959232 2989604.702156118, -8998631.224362502 2989305.431929644, -8998958.96319229 2988191.08242095, -8998969.761850817 2988115.219628537, -8998970.652963338 2988003.34421421, -8998978.125952072 2985074.222952241, -8998975.677702516 2984897.907828075, -8998981.912373232 2984787.046922517, -8999221.146753186 2984306.866795983, -8999264.674455201 2984186.236491842, -8999288.831897896 2984081.690934787, -8999308.3140333 2983943.370188413, -8999349.504805245 2983666.856470413, -8999431.105108943 2983473.733143011, -8999515.157224422 2982746.542605502, -8999572.601532578 2982359.704009854, -8999664.334136324 2981789.17585042, -8999767.532536305 2981287.817332719, -8999870.619505478 2980822.966032324, -8999880.751360252 2980538.100049661, -8999902.462334501 2979917.054556343, -8999932.411173705 2979292.943510294, -8999939.203889035 2978880.841832493, -9000044.183957463 2978296.474326151, -9000277.410201862 2977200.276403602, -9000333.184161054 2976944.541679265, -9000402.095601274 2976377.192367122, -9000544.14906764 2975222.652292926, -9000583.891906966 2975076.254805425, -9000674.287563631 2974733.883170407, -9000740.414792072 2974411.425534191, -9000790.733762257 2974197.158364539, -9000853.298433026 2973911.803304859, -9000898.829885872 2973806.342121938, -9000901.947388209 2973729.193868507, -9000895.713830683 2973619.777566057, -9000918.313913707 2973305.133004488, -9000908.629451968 2973189.414609805, -9000864.435168847 2973031.415871562, -9000724.948841255 2972848.693028366, -9000550.062247675 2972622.332326313, -8998041.309541535 2969874.756702894, -8997898.371975776 2969735.827834272, -8997788.496855371 2969669.824468537, -8997662.257213227 2969630.642650491, -8997516.758742582 2969592.943944816))\n"
     ]
    }
   ],
   "source": [
    "#Prints an example of how the shapefile stores some records as a polygon, record with GNIS_ID == 302659\n",
    "\n",
    "for row in nps.itertuples():\n",
    "    if row.GNIS_ID == '302659':\n",
    "        print (row.PARKNAME + '\\n')\n",
    "        print (str(row.geometry))"
   ]
  },
  {
   "cell_type": "markdown",
   "metadata": {
    "deletable": true,
    "editable": true
   },
   "source": [
    "# Example of extracting PAD-US data from GC2 for analyses, in a reproducible way"
   ]
  },
  {
   "cell_type": "code",
   "execution_count": 20,
   "metadata": {
    "collapsed": true,
    "deletable": true,
    "editable": true
   },
   "outputs": [],
   "source": [
    "import requests\n",
    "import geopandas as gpd\n",
    "import geojson\n",
    "import pandas as pd\n",
    "import numpy as np\n",
    "import time"
   ]
  },
  {
   "cell_type": "code",
   "execution_count": 47,
   "metadata": {
    "collapsed": true,
    "deletable": true,
    "editable": true
   },
   "outputs": [],
   "source": [
    "#Retrieves Data for analytical units, Renders GEOJSON as Python object\n",
    "\n",
    "#Server fails when trying to return all park boundaries... something that FORT needs to look into\n",
    "#searchCriteria = \"\"\"select title, ftype, the_geom from sfr.sfr_poly where ftype='National Park Boundaries'\"\"\"\n",
    "\n",
    "#Select Lassen Volcanic Park from GC2\n",
    "searchCriteria = \"\"\"select title, ftype, the_geom from sfr.sfr_poly where title='262325 : Lassen Volcanic'\"\"\"\n",
    "baseUrl = \"https://gc2.datadistillery.org/api/v1/sql/bcb?q=\"\n",
    "queryUrl = baseUrl + searchCriteria\n",
    "\n",
    "\n",
    "recordsToSearch = requests.get(url=queryUrl)\n",
    "npsGc2Data = geojson.loads(recordsToSearch.text)\n",
    "\n",
    "#Creates geodataframe (geopandas) from geojson response from GC2\n",
    "gdfNps = gpd.GeoDataFrame.from_features(npsGc2Data['features'], 4326)"
   ]
  },
  {
   "cell_type": "code",
   "execution_count": 48,
   "metadata": {
    "collapsed": false,
    "deletable": true,
    "editable": true
   },
   "outputs": [
    {
     "data": {
      "text/html": [
       "<div>\n",
       "<style>\n",
       "    .dataframe thead tr:only-child th {\n",
       "        text-align: right;\n",
       "    }\n",
       "\n",
       "    .dataframe thead th {\n",
       "        text-align: left;\n",
       "    }\n",
       "\n",
       "    .dataframe tbody tr th {\n",
       "        vertical-align: top;\n",
       "    }\n",
       "</style>\n",
       "<table border=\"1\" class=\"dataframe\">\n",
       "  <thead>\n",
       "    <tr style=\"text-align: right;\">\n",
       "      <th></th>\n",
       "      <th>ftype</th>\n",
       "      <th>geometry</th>\n",
       "      <th>title</th>\n",
       "    </tr>\n",
       "  </thead>\n",
       "  <tbody>\n",
       "    <tr>\n",
       "      <th>0</th>\n",
       "      <td>National Park Boundaries</td>\n",
       "      <td>(POLYGON ((-13537076.861149 4916669.5697575, -...</td>\n",
       "      <td>262325 : Lassen Volcanic</td>\n",
       "    </tr>\n",
       "  </tbody>\n",
       "</table>\n",
       "</div>"
      ],
      "text/plain": [
       "                      ftype  \\\n",
       "0  National Park Boundaries   \n",
       "\n",
       "                                            geometry                     title  \n",
       "0  (POLYGON ((-13537076.861149 4916669.5697575, -...  262325 : Lassen Volcanic  "
      ]
     },
     "execution_count": 48,
     "metadata": {},
     "output_type": "execute_result"
    }
   ],
   "source": [
    "#view the geodataframe\n",
    "gdfNps.head()"
   ]
  },
  {
   "cell_type": "code",
   "execution_count": 50,
   "metadata": {
    "collapsed": true,
    "deletable": true,
    "editable": true
   },
   "outputs": [],
   "source": [
    "%matplotlib inline"
   ]
  },
  {
   "cell_type": "code",
   "execution_count": 55,
   "metadata": {
    "collapsed": false,
    "deletable": true,
    "editable": true
   },
   "outputs": [
    {
     "data": {
      "text/plain": [
       "<matplotlib.axes._subplots.AxesSubplot at 0x2145bda4ac8>"
      ]
     },
     "execution_count": 55,
     "metadata": {},
     "output_type": "execute_result"
    },
    {
     "data": {
      "image/png": "[encoded data removed]",
      "text/plain": [
       "<matplotlib.figure.Figure at 0x2145a08e4e0>"
      ]
     },
     "metadata": {},
     "output_type": "display_data"
    }
   ],
   "source": [
    "gdfNps.plot(color='green')"
   ]
  },
  {
   "cell_type": "code",
   "execution_count": null,
   "metadata": {
    "collapsed": true,
    "deletable": true,
    "editable": true
   },
   "outputs": [],
   "source": []
  }
 ],
 "metadata": {
  "kernelspec": {
   "display_name": "Python 2",
   "language": "python",
   "name": "python2"
  },
  "language_info": {
   "codemirror_mode": {
    "name": "ipython",
    "version": 2
   },
   "file_extension": ".py",
   "mimetype": "text/x-python",
   "name": "python",
   "nbconvert_exporter": "python",
   "pygments_lexer": "ipython2",
   "version": "2.7.13"
  }
 },
 "nbformat": 4,
 "nbformat_minor": 2
}
